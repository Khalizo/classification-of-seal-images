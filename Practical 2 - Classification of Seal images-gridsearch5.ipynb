{
 "cells": [
  {
   "cell_type": "code",
   "execution_count": null,
   "metadata": {},
   "outputs": [],
   "source": [
    "from scipy.stats import uniform\n",
    "from numpy import array\n",
    "import pandas as pd\n",
    "import numpy as np\n",
    "import sklearn as sk\n",
    "import matplotlib as mp\n",
    "import time\n",
    "import seaborn as sb\n",
    "import matplotlib as mpl \n",
    "import matplotlib.pyplot as plt\n",
    "from sklearn.decomposition import PCA\n",
    "from mpl_toolkits.mplot3d import Axes3D\n",
    "from sklearn.manifold import TSNE\n",
    "%matplotlib inline\n",
    "from sklearn.model_selection import cross_val_score\n",
    "from sklearn.svm import SVC\n",
    "from sklearn.metrics import plot_confusion_matrix\n",
    "from sklearn.linear_model import LogisticRegression\n",
    "from sklearn.linear_model import SGDClassifier\n",
    "from sklearn.preprocessing import StandardScaler, LabelEncoder\n",
    "from sklearn.metrics import precision_score, recall_score, confusion_matrix, f1_score, accuracy_score, balanced_accuracy_score\n",
    "from sklearn.model_selection import cross_val_predict\n",
    "from sklearn.ensemble import RandomForestClassifier\n",
    "from sklearn.model_selection import train_test_split\n",
    "from sklearn.utils import resample\n",
    "from imblearn.over_sampling import SMOTE, RandomOverSampler\n",
    "from sklearn.externals import joblib\n",
    "from scipy.stats import randint as sp_randint\n",
    "from sklearn.model_selection import GridSearchCV\n",
    "from sklearn.model_selection import RandomizedSearchCV\n",
    "import random\n",
    "from sklearn.neural_network import MLPClassifier\n",
    "from imblearn.under_sampling import RandomUnderSampler\n",
    "from sklearn.metrics import classification_report\n",
    "from sklearn.metrics import roc_curve, precision_recall_curve\n",
    "from sklearn.ensemble import RandomForestClassifier, VotingClassifier"
   ]
  },
  {
   "cell_type": "markdown",
   "metadata": {},
   "source": [
    "# Sections of the report \n",
    "\n",
    "-\tIntroduction\n",
    "-\tMethods\n",
    "    -\tCleaning the data and creating new input features\n",
    "    - Analysing and visualising the data\n",
    "    - Preparing the inputs and choosing suitable features\n",
    "    - Selecting and training a model\n",
    "-\tEvaluation\n",
    "\n",
    "-\tConclusion\n"
   ]
  },
  {
   "cell_type": "markdown",
   "metadata": {},
   "source": [
    "## 1. Introduction\n",
    "\n",
    "This study will be taking a data driven approach towards classifying images of seals. The dataset used "
   ]
  },
  {
   "cell_type": "markdown",
   "metadata": {},
   "source": [
    "## 2. Method\n",
    "\n",
    "### 2.1 Loading and cleaning the data set\n"
   ]
  },
  {
   "cell_type": "code",
   "execution_count": null,
   "metadata": {},
   "outputs": [],
   "source": [
    "# Load the datasets\n",
    "\n",
    "#binary datasets\n",
    "X_train_binary = pd.read_csv('/data/CS5014-P2/binary/X_train.csv', header=None)\n",
    "Y_train_binary = pd.read_csv('/data/CS5014-P2/binary/Y_train.csv', header=None)\n",
    "X_test_binary = pd.read_csv('/data/CS5014-P2/binary/X_test.csv', header=None)\n",
    "\n",
    "#multi datasets\n",
    "X_train_multi = pd.read_csv('/data/CS5014-P2/multi/X_train.csv', header=None)\n",
    "Y_train_multi = pd.read_csv('/data/CS5014-P2/multi/Y_train.csv', header=None)\n",
    "X_test_multi = pd.read_csv('/data/CS5014-P2/multi/X_test.csv', header=None)"
   ]
  },
  {
   "cell_type": "markdown",
   "metadata": {},
   "source": [
    "###  Cleaning the dataset"
   ]
  },
  {
   "cell_type": "markdown",
   "metadata": {},
   "source": [
    "a) **Check for Null-values and inconsistent data types:** Upon looking at that dataset, we can see that each column has an equal amount of non-null values, indicating that there are **no instances** of missing data. Moreover, all the data types are float64, indicating a consistency in data format"
   ]
  },
  {
   "cell_type": "code",
   "execution_count": null,
   "metadata": {},
   "outputs": [],
   "source": [
    "# Check for Null-values\n",
    "print(X_train_multi.info(null_counts=True))\n",
    "print(X_train_binary.info(null_counts=True))"
   ]
  },
  {
   "cell_type": "markdown",
   "metadata": {},
   "source": [
    "b) **Check for duplicate values**: No duplicate values were found"
   ]
  },
  {
   "cell_type": "code",
   "execution_count": null,
   "metadata": {
    "scrolled": true
   },
   "outputs": [],
   "source": [
    "# remove duplicate rows\n",
    "datasets = [X_train_binary,Y_train_binary, X_test_binary, X_train_multi, X_train_multi, X_test_multi]\n",
    "\n",
    "for data in datasets:\n",
    "    duplicate_rows = data[data.duplicated()]\n",
    "    print(len(duplicate_rows))"
   ]
  },
  {
   "cell_type": "markdown",
   "metadata": {},
   "source": [
    "No null values, no duplicate and all the data types were for the dtype float64. Nothing needed to change so will proceed to visualising the dataset\n"
   ]
  },
  {
   "cell_type": "markdown",
   "metadata": {},
   "source": [
    "### 2.1.2 Create a validation set\n",
    "\n",
    "Despite there being a already a test set in place, a preliminary test set was created, to evaluate the performance of the model and to see how well the model could\n",
    "generalise on unseen data. The training data was split with an 80/20 split in stratified fashion, in order to keep the proportion of the classes as the dataset\n",
    "was already heavily imbalanced."
   ]
  },
  {
   "cell_type": "code",
   "execution_count": null,
   "metadata": {},
   "outputs": [],
   "source": [
    "# Splits the training set\n",
    "X_train_B, X_val_B, y_train_B, y_val_B = train_test_split(X_train_binary, Y_train_binary, test_size=0.20, stratify=Y_train_binary, random_state=27)\n",
    "X_train_M, X_val_M, y_train_M, y_val_M = train_test_split(X_train_multi, Y_train_multi, test_size=0.20, stratify=Y_train_multi, random_state=27)\n",
    "\n",
    "# Resets the indexes\n",
    "X_train_B = X_train_B.reset_index(drop=True)\n",
    "X_val_B = X_val_B.reset_index(drop=True)\n",
    "y_train_B = y_train_B.reset_index(drop=True)\n",
    "y_val_B = y_val_B.reset_index(drop=True)\n",
    "\n",
    "X_train_M = X_train_M.reset_index(drop=True)\n",
    "X_val_M = X_val_M.reset_index(drop=True)\n",
    "y_train_M = y_train_M.reset_index(drop=True)\n",
    "y_val_M = y_val_M.reset_index(drop=True)"
   ]
  },
  {
   "cell_type": "markdown",
   "metadata": {},
   "source": [
    "### 2.2 Analysing and Visualising the dataset\n",
    "\n",
    "#### 2.2.1 Visualising the images\n",
    "\n",
    "\n",
    "The dataset has 62210 images, with around 964 features. To visualise the images, I sliced the first\n",
    "900 columns to get the Histogram of Orientated Gradient (HOG) features and picked an image from each class found in the Y_train datasets\n",
    "\n",
    "Figure 1 below, showes the images taken from the binary dataset, where classes are either background and seal. \n",
    "Figure 2, shows images from the multi dataset, where images are background, dead pup, whitecoat, moulted pup, juvenile"
   ]
  },
  {
   "cell_type": "code",
   "execution_count": null,
   "metadata": {},
   "outputs": [],
   "source": [
    "bin_classes = ['background','seal']\n",
    "mult_classes = ['background','dead pup', 'whitecoat', 'moulted pup', 'juvenile']\n",
    "\n",
    "def get_rows_and_titles(classes, dataset, num):\n",
    "    \"\"\"\n",
    "    Method for getting the row numbers and titles for each class\n",
    "    \"\"\"\n",
    "    rows = np.array([])\n",
    "    titles = np.array([])\n",
    "    for i in classes:\n",
    "        filt = dataset.iloc[:,0] == i\n",
    "        filtered_data = dataset[filt].head(num)\n",
    "        rows = np.concatenate([rows, filtered_data.index.values])\n",
    "        titles = np.concatenate([titles, array(filtered_data.iloc[:,0])])\n",
    "    \n",
    "    return rows.astype(int), titles  \n",
    "      \n",
    "        \n",
    "bin_rows, bin_titles = get_rows_and_titles(bin_classes, y_train_B,1)\n",
    "mult_rows, mult_titles = get_rows_and_titles(mult_classes, y_train_M,1)\n",
    "\n",
    "bin_titles"
   ]
  },
  {
   "cell_type": "code",
   "execution_count": null,
   "metadata": {},
   "outputs": [],
   "source": [
    "# classes in the  binary dataset\n",
    "no_rows_bin  = 2\n",
    "no_rows_mult = 2\n",
    "def print_images(no_rows,row_numbers, titles, dataset, width, height):\n",
    "    \"\"\"\n",
    "    Converts the HoG features provided into a 30 x 30 image. \n",
    "    Plots the images seen in Figure 1 of the report. \n",
    "    \"\"\"\n",
    "    fig = plt.figure(figsize=(width, height))\n",
    "    for i in range(1, len(row_numbers) +1): \n",
    "        output = array(dataset.iloc[row_numbers[i-1], :900])\n",
    "        output_image = output.reshape(30, 30)\n",
    "        fig.add_subplot(no_rows, 5, i)\n",
    "        plt.imshow(output_image, cmap = mpl.cm.binary, interpolation=\"nearest\")\n",
    "        plt.title(titles[i-1])\n",
    "        plt.axis(\"off\")\n",
    "        \n",
    "    plt.show()\n",
    "\n",
    "print_images(no_rows_bin, bin_rows, bin_titles, X_train_B,10,5)"
   ]
  },
  {
   "cell_type": "code",
   "execution_count": null,
   "metadata": {},
   "outputs": [],
   "source": [
    "print_images(no_rows_mult, mult_rows, mult_titles, X_train_M,10,5)"
   ]
  },
  {
   "cell_type": "markdown",
   "metadata": {},
   "source": [
    "In both datasets, we can see that the \"backgound\" classes appears to have the least amount of dark pixelation compared to the others. \n",
    "In the mult-classification dataset, the whitecoat image appears to be the most distinct\n",
    "\n",
    "#### 2.2.2 Visualising the class distribution in the data\n",
    "\n",
    "To understand the distribution of the classes in both the binary and multi datasets, I visualised the frequency distribution of the classes\n"
   ]
  },
  {
   "cell_type": "code",
   "execution_count": null,
   "metadata": {},
   "outputs": [],
   "source": [
    "# prepare data for visualisation\n",
    "bin_freq= y_train_B.iloc[:,0].value_counts()\n",
    "mult_freq= y_train_M.iloc[:,0].value_counts()\n",
    "\n",
    "mult_classes = array(mult_freq.keys())\n",
    "mult_data = mult_freq.values\n",
    "bin_classes = array(bin_freq.keys())\n",
    "bin_data = bin_freq.values\n",
    "\n",
    "classes = [mult_classes, bin_classes]\n",
    "mult_and_bin_freq = [mult_data, bin_data]\n",
    "titles = [\"Multi\",\"Binary\"]\n"
   ]
  },
  {
   "cell_type": "code",
   "execution_count": null,
   "metadata": {},
   "outputs": [],
   "source": [
    "# X_train_multi.iloc[:,0].value_counts().plot(kind='barh') #horizontal bar plot\n",
    "\n",
    "def get_pct(array, value):\n",
    "    \"\"\"\n",
    "    Gets the percentage of a value in proportion to the sum of an array\n",
    "    return: pct_string\n",
    "    \"\"\"\n",
    "    pct = value/array.sum()\n",
    "    pct_string =  \" ({:.2%})\".format(pct)\n",
    "    return pct_string\n",
    "#\n",
    "def plot_class_dist(data,classes, title):\n",
    "    \"\"\"\n",
    "    Plots a 2-D plot, showing the relationship between classes and frequency\n",
    "    Plots the images seen in Figure 2 of the report. \n",
    "    \"\"\"\n",
    "    fig, ax = plt.subplots(figsize=(6, 3))    \n",
    "    width = 0.75 # the width of the bars \n",
    "    ind = np.arange(len(data))  # the x locations for the groups\n",
    "    ax.barh(ind, data, width, color=\"blue\")\n",
    "    ax.set_yticks(ind+width/2)\n",
    "    ax.set_yticklabels(classes, minor=False)\n",
    "    plt.title(\"Class Frequency Distribution of the \" + title +  \" Dataset\")\n",
    "    plt.xlabel('Frequency')\n",
    "    plt.ylabel('Classes')\n",
    "    for i, v in enumerate(data):\n",
    "        ax.text(v + 3, i + .25, str(v) + get_pct(data,v), color='green', fontweight='bold')\n",
    "    plt.show()\n",
    "    \n",
    "for i in range(2):\n",
    "    plot_class_dist(mult_and_bin_freq[i],classes[i],titles[i])"
   ]
  },
  {
   "cell_type": "markdown",
   "metadata": {},
   "source": [
    "It is evident that both datasets are heavily skewed towards the background class, accounting for 87.5% of the dataset. Given this large proportion of the background class in the dataset,\n",
    "it may be no suprise that the classification algorithm is able to classify the background class very well. On the other hand, the juvenile and moulted pup classes\n",
    "account for 0.40% and 0.45% respectively. Given the skewed data set it will make sense to stratify the training sets to keep a consistent distribution. "
   ]
  },
  {
   "cell_type": "markdown",
   "metadata": {},
   "source": [
    "#### 2.2.3 Visualising Variance Using PCA and t-SNE\n",
    "\n",
    "**PCA**\n",
    "\n",
    "PCA is a popular technique for reducing the number of dimensions in a dataset whilst retaining most information. PCA preserves variances by identifying the axis that accounts for the largest amount of variance in the training set. It then finds a 2nd axis which is orthogonal to the first one, that accounts for the largest amount of remaining variance. In higher dimensions, PCA would find a 3rd axis and then an ith axis, based on the number of dimensions in the dataset. The vector that defines each axis is called the the Priniciapal component. For visualising purposes, I reduced the dimensions down to 3 dimensions and plotted the 1st and 2nd Principal componetns against each other. Using the explained \n",
    "variance ratio, I found that 35.6% of the dataset's variance lied in the first axis, 20.1% in the 2nd axis and 14% in the 3rd axis. Thus the first three components accounted for 69.7% of the entire dataset. \n",
    "\n",
    "https://towardsdatascience.com/visualising-high-dimensional-datasets-using-pca-and-t-sne-in-python-8ef87e7915b\n",
    "\n",
    "\n",
    "We can see from Figure 3, that the data relating to the seal has the highest variance as it dominates the X axis of PCA 1. The data relating to background, appears to have a lower variance as it appears for the highest PCA values for PCA 2\n"
   ]
  },
  {
   "cell_type": "markdown",
   "metadata": {},
   "source": [
    "**t-SNE**\n",
    "\n",
    "original paper = http://jmlr.org/papers/volume9/vandermaaten08a/vandermaaten08a.pdf\n",
    "t-Distributed Stochastic Neighbor Embedding (t-SNE) is another technique for dimensionality reduction and is particularly well suited for the visualization of high-dimensional datasets. Contrary to PCA it is not a mathematical technique but a probablistic one.\n"
   ]
  },
  {
   "cell_type": "code",
   "execution_count": null,
   "metadata": {},
   "outputs": [],
   "source": [
    "# scale binary dataset\n",
    "std_B = StandardScaler().fit(X_train_B)\n",
    "X_train_B_std = std_B.transform(X_train_B)\n",
    "X_val_B_std = pd.DataFrame(std_B.transform(X_val_B))\n",
    "X_test_binary_std = pd.DataFrame(std_B.transform(X_test_binary))\n",
    "\n",
    "# scale multi dataset\n",
    "std_M = StandardScaler().fit(X_train_M) # fit the training set\n",
    "X_train_M_std = std_M.transform(X_train_M)\n",
    "X_val_M_std = pd.DataFrame(std_M.transform(X_val_M))\n",
    "X_test_multi_std = pd.DataFrame(std_M.transform(X_test_multi))\n",
    "\n",
    "# data lists\n",
    "X_train_std_list = [X_train_M_std, X_train_B_std]\n",
    "Y_train_list = [y_train_M,y_train_B]\n",
    "no_colors = [5,2]\n",
    "   \n",
    "def plot_pca(X_train_list,y_train_list, no_colors, titles):\n",
    "    \"\"\"\n",
    "    Plots a 2-Dimensional plot of the PCA components.\n",
    "    Plots the images seen Figure 3 of the report. \n",
    "    \"\"\"\n",
    "    plt.figure(figsize=(16,7))\n",
    "    for j in range(2):\n",
    "        \n",
    "        # prepare data for visualisation\n",
    "        y = array(y_train_list[j].iloc[:,0])\n",
    "        feat_cols = ['pixel'+str(i) for i in range(X_train_B.shape[1])]\n",
    "        df = pd.DataFrame(array(X_train_list[j]), columns=feat_cols)\n",
    "        df['y'] = y\n",
    "        df['label'] = df['y'].apply(lambda i: str(i))\n",
    "\n",
    "        X, y = None, None\n",
    "\n",
    "        # add random permuation for reproducability of the results\n",
    "        np.random.seed(42)\n",
    "        rndperm = np.random.permutation(X_train_list[j].shape[0])\n",
    "\n",
    "        # Set PCA components\n",
    "        N = 60000\n",
    "        df_subset = df.loc[rndperm[:N],:].copy()\n",
    "        data_subset = df_subset[feat_cols].values\n",
    "        pca = PCA(n_components=3)\n",
    "        pca_result = pca.fit_transform(data_subset)\n",
    "        df_subset['pca-one'] = pca_result[:,0]\n",
    "        df_subset['pca-two'] = pca_result[:,1] \n",
    "        df_subset['pca-three'] = pca_result[:,2]\n",
    "        print('Explained variation per principal component: {}'.format(pca.explained_variance_ratio_))\n",
    "        \n",
    "        # plot PCA components \n",
    "        \n",
    "        ax1 = plt.subplot(1, 2, j+1)\n",
    "        sb.scatterplot(\n",
    "            x=\"pca-one\", y=\"pca-two\",\n",
    "            hue=\"y\",\n",
    "            palette=sb.color_palette(\"hls\", no_colors[j]),\n",
    "            data=df_subset,\n",
    "            legend=\"full\",\n",
    "            alpha=0.3,\n",
    "            ax=ax1\n",
    "        )\n",
    "        ax1.set_title(titles[j] + \" dataset\")\n",
    "\n",
    "def plot_tsne(X_train_list,y_train_list, no_colors, titles):\n",
    "    \"\"\"\n",
    "    Plots a 2-Dimensional plot of the t-SNE components\n",
    "    Corresponds to Figure 4 of report. Make N=40000 if you would like to generate the image seen in the report, \n",
    "    however this takes a while to run. \n",
    "    \"\"\"\n",
    "    plt.figure(figsize=(16,7))\n",
    "    for j in range(2):\n",
    "        \n",
    "        # prepare data for visualisation\n",
    "        y = array(y_train_list[j].iloc[:,0])\n",
    "        feat_cols = ['pixel'+str(i) for i in range(X_train_B.shape[1])]\n",
    "        df = pd.DataFrame(array(X_train_list[j]), columns=feat_cols)\n",
    "        df['y'] = y\n",
    "        df['label'] = df['y'].apply(lambda i: str(i))\n",
    "\n",
    "        X, y = None, None\n",
    "\n",
    "        # add randome permuation for reproducability of the results\n",
    "        np.random.seed(42)\n",
    "        rndperm = np.random.permutation(X_train_list[j].shape[0])\n",
    "\n",
    "        # Set PCA components\n",
    "        N = 1000\n",
    "        df_subset = df.loc[rndperm[:N],:].copy()\n",
    "        data_subset = df_subset[feat_cols].values\n",
    "        pca = PCA(n_components=100)\n",
    "        pca_result = pca.fit_transform(data_subset)\n",
    "        print('Cumulative variance explained by 100 principal components: {}'.format(np.sum(pca.explained_variance_ratio_)))\n",
    "        \n",
    "        #Set TSNE components\n",
    "        time_start = time.time()\n",
    "        tsne = TSNE(n_components=2, verbose=1, perplexity=40, n_iter=300)\n",
    "        tsne_results = tsne.fit_transform(pca_result)\n",
    "        print('t-SNE done! Time elapsed: {} seconds'.format(time.time()-time_start))\n",
    "        df_subset['tsne-2d-one'] = tsne_results[:,0]\n",
    "        df_subset['tsne-2d-two'] = tsne_results[:,1]\n",
    "\n",
    "        # plot PCA components \n",
    "        \n",
    "        ax1 = plt.subplot(1, 2, j+1)\n",
    "        sb.scatterplot(\n",
    "            x=\"tsne-2d-one\", y=\"tsne-2d-two\",\n",
    "            hue=\"y\",\n",
    "            palette=sb.color_palette(\"hls\", no_colors[j]),\n",
    "            data=df_subset,\n",
    "            legend=\"full\",\n",
    "            alpha=0.3,\n",
    "            ax=ax1\n",
    "        )\n",
    "        ax1.set_title(titles[j] + \" dataset\")\n",
    "    \n",
    "    \n",
    "plot_pca(X_train_std_list, Y_train_list, no_colors, titles)\n",
    "plot_tsne(X_train_std_list, Y_train_list, no_colors, titles)"
   ]
  },
  {
   "cell_type": "markdown",
   "metadata": {},
   "source": [
    "### 2.3 Preparing the inputs and choosing suitable features (TODO)\n",
    "\n",
    "\n",
    "The dataset is imbalanced - https://www.aaai.org/Papers/Workshops/2000/WS-00-05/WS00-05-001.pdf"
   ]
  },
  {
   "cell_type": "markdown",
   "metadata": {},
   "source": [
    "#### 2.3.1 Choosing Suitable features \n",
    "\n",
    "Since the data is split up into three different groups, I decided to test different feature subsets using a baseline logistic regression, in order to choose a \n",
    "specific subset for further training and optimising. "
   ]
  },
  {
   "cell_type": "code",
   "execution_count": null,
   "metadata": {},
   "outputs": [],
   "source": [
    "# Here i take the scaled training sets and then create dictionaries that store 4 feature subsets\n",
    "\"\"\"\n",
    "HoG Features\n",
    "HoG Features + Normal distribution\n",
    "HoG Features + Colour\n",
    "All features\n",
    "\"\"\"\n",
    "\n",
    "def select_HoG_and_colour(X):\n",
    "    \"\"\"\n",
    "    Selects the HoG and the three Colour histogram features\n",
    "    \"\"\"\n",
    "    X = pd.DataFrame(X)\n",
    "    X_HoG = X.iloc[:, :900]\n",
    "    X_colour = X.iloc[:, 916:964]\n",
    "    X = pd.concat([X_HoG, X_colour], axis=1)\n",
    "    return X\n",
    "\n",
    "# Binary dataset feature subsets\n",
    "X_train_B_std = pd.DataFrame(X_train_B_std)\n",
    "X_train_B_HoG = X_train_B_std.iloc[:, :900]\n",
    "X_train_B_normal = X_train_B_std.iloc[:, :916]\n",
    "X_train_B_colour = select_HoG_and_colour(X_train_B_std)\n",
    "X_train_B_list = {'X_train_B': X_train_B, 'X_train_B_HoG': X_train_B_HoG,\n",
    "                 'X_train_B_normal': X_train_B_normal, 'X_train_B_colour': X_train_B_colour}\n",
    "\n",
    "# Binary dataset feature subsets\n",
    "X_train_M_std = pd.DataFrame(X_train_M_std)\n",
    "X_train_M_HoG = X_train_M_std.iloc[:, :900]\n",
    "X_train_M_normal = X_train_M_std.iloc[:,:916]\n",
    "X_train_M_colour = select_HoG_and_colour(X_train_M_std)\n",
    "X_train_M_list = {'X_train_M': X_train_M, 'X_train_M_HoG': X_train_B_HoG,\n",
    "                 'X_train_M_normal': X_train_M_normal, 'X_train_M_colour': X_train_M_colour}\n"
   ]
  },
  {
   "cell_type": "code",
   "execution_count": null,
   "metadata": {},
   "outputs": [],
   "source": [
    "# select Hog features + colour for the validation and test set\n",
    "\n",
    "# Binary dataset\n",
    "X_val_B_colour = select_HoG_and_colour(X_val_B_std)\n",
    "X_test_binary_colour = select_HoG_and_colour(X_test_binary_std)\n",
    "\n",
    "# multi\n",
    "X_val_M_colour = select_HoG_and_colour(X_val_M_std)\n",
    "X_test_multi_colour = select_HoG_and_colour(X_test_multi_std)\n",
    "\n"
   ]
  },
  {
   "cell_type": "markdown",
   "metadata": {},
   "source": [
    "#### 2.3.2 Scaling\n",
    "\n",
    "The paper mentioned that scaling was important for getting good results as normalisation helps to remove the effect of local lights differences. \n",
    "\n",
    "http://www.geocities.ws/talh_davidc/#cst_extract"
   ]
  },
  {
   "cell_type": "markdown",
   "metadata": {},
   "source": [
    "#### 2.3.3 Dimensionality reduction with PCA\n",
    "\n",
    "Earlier dimensionality reduction was used for visualisation, now it will be used for training and evaluation purposes. As opposed to only used 2 principal components\n",
    ", the aim would be to find the optimal amount of principal components so as to reduce the dimensions while having a high amount of variance in the data > 95%\n"
   ]
  },
  {
   "cell_type": "code",
   "execution_count": null,
   "metadata": {},
   "outputs": [],
   "source": [
    "pca = PCA()\n",
    "pca.fit(X_train_M_colour)\n",
    "cumsum = np.cumsum(pca.explained_variance_ratio_)\n",
    "d = np.argmax(cumsum >= 0.99) + 1\n",
    "d"
   ]
  },
  {
   "cell_type": "code",
   "execution_count": null,
   "metadata": {},
   "outputs": [],
   "source": [
    "plt.figure(figsize=(6,4))\n",
    "plt.plot(cumsum, linewidth=3)\n",
    "plt.axis([0, 964, 0, 1])\n",
    "plt.xlabel(\"Dimensions\")\n",
    "plt.ylabel(\"Explained Variance\")\n",
    "plt.plot([d, d], [0, 0.99], \"k:\")\n",
    "plt.plot([0, d], [0.99, 0.99], \"k:\")\n",
    "plt.plot(d, 0.99, \"ko\")\n",
    "plt.grid(True)\n",
    "plt.show()"
   ]
  },
  {
   "cell_type": "code",
   "execution_count": null,
   "metadata": {},
   "outputs": [],
   "source": [
    "# use minimum number of dimensions required to preserve 99% of the variance\n",
    "# binary dataset\n",
    "pca_B = PCA(n_components=474)\n",
    "X_train_B_PCA = pca_B.fit_transform(X_train_B_colour)\n",
    "X_val_B_PCA = pca_B.transform(X_val_B_colour)\n",
    "X_test_binary_PCA = pca_B.transform(X_test_binary_colour)\n",
    "\n",
    "# multi dataset\n",
    "pca_M = PCA(n_components=474)\n",
    "X_train_M_PCA = pca_M.fit_transform(X_train_M_colour)\n",
    "X_val_M_PCA = pca_M.transform(X_val_M_colour)\n",
    "X_test_multi_PCA = pca_M.transform(X_test_multi_colour)\n"
   ]
  },
  {
   "cell_type": "code",
   "execution_count": null,
   "metadata": {},
   "outputs": [],
   "source": [
    "# This was used to compare the performance of PCA against not using it\n",
    "\n",
    "# time_start = time.time()\n",
    "# run_clf(X_train_M_PCA, y_train_M,\"X_train_M\",\"multi\",True,'LogReg')\n",
    "# print('Prediction done! Time elapsed: {} seconds'.format(time.time()-time_start))\n",
    "\n",
    "# time_start2 = time.time()\n",
    "# run_clf(X_train_M_colour, y_train_M,\"X_train_M\",\"multi\",True,'LogReg')\n",
    "# print('Prediction done! Time elapsed: {} seconds'.format(time.time()-time_start))"
   ]
  },
  {
   "cell_type": "markdown",
   "metadata": {},
   "source": [
    "#### 2.3.4 Resampling\n",
    "\n",
    "Study on why PCA should be done before - https://arxiv.org/ftp/arxiv/papers/1403/1403.1949.pdf\n",
    "\n",
    "To address the issue of having an unbalanced dataset, this study investigated resampling techniques such as oversampling and undersampling\n",
    "\n",
    "- Oversampling: Oversampling can be defined as adding more copies of the minority class. Oversampling can be a good choice when you don’t have a ton of data to work with.\n",
    "- Undersampling: is a method of reducing copies of a majority class"
   ]
  },
  {
   "cell_type": "code",
   "execution_count": null,
   "metadata": {},
   "outputs": [],
   "source": [
    "\n",
    "def oversample(X_train, y_train):\n",
    "    \"\"\"\n",
    "    Oversamples the minority class of a binary dataset and\n",
    "    return: X_train_ov, y_train_ov\n",
    "    \"\"\"\n",
    "    # concatenate our training data back together\n",
    "    X_train = pd.DataFrame(X_train)\n",
    "    y_train = y_train.rename(columns={0: \"classes\"})\n",
    "    ros = RandomOverSampler(random_state=42)\n",
    "    X_res, y_res = ros.fit_resample(X_train, y_train)\n",
    "    print(y_res.iloc[:,0].value_counts())\n",
    "    oversampled_data = [X_res, y_res]\n",
    "    return oversampled_data\n",
    "   \n",
    "def undersample_bin(X_train, y_train):\n",
    "    \"\"\"\n",
    "    Undersamples the minority class of a binary dataset and\n",
    "    return: X_train_ov, y_train_ov\n",
    "    \"\"\"\n",
    "    # concatenate our training data back together\n",
    "    X_train = pd.DataFrame(X_train)\n",
    "    y_train = y_train.rename(columns={0: \"classes\"})\n",
    "    X = pd.concat([X_train, y_train], axis=1)\n",
    "\n",
    "    # separate minority and majority classes\n",
    "    not_seal_bool = X['classes']=='background'\n",
    "    not_seal = X[not_seal_bool]\n",
    "    seal_bool = X['classes']=='seal'\n",
    "    seal = X[seal_bool]\n",
    "\n",
    "    # downsample majority\n",
    "    not_seal_downsampled = resample(not_seal,\n",
    "                                    replace = False, # sample without replacement\n",
    "                                    n_samples = len(seal), # match minority n\n",
    "                                    random_state = 27) # reproducible results\n",
    "\n",
    "    # combine minority and downsampled majority\n",
    "    downsampled = pd.concat([not_seal_downsampled, seal])\n",
    "    y_train_down = downsampled['classes']\n",
    "    print(y_train_down.value_counts())\n",
    "    X_train_down = downsampled.drop(columns='classes', axis=1)\n",
    "    undersampled_data = [X_train_down, y_train_down]\n",
    "    return undersampled_data\n",
    "\n",
    "def undersample_multi(X_train, y_train):\n",
    "    \"\"\"\n",
    "    Oversamples the minority class of a binary dataset and\n",
    "    return: X_train_ov, y_train_ov\n",
    "    \"\"\"\n",
    "    # concatenate our training data back together\n",
    "    X_train = pd.DataFrame(X_train)\n",
    "    y_train = y_train.rename(columns={0: \"classes\"})\n",
    "    undersample_background = {'background': 3985}\n",
    "    rus = RandomUnderSampler(undersample_background , random_state=42, )\n",
    "    X_res, y_res = rus.fit_resample(X_train, y_train)\n",
    "    print(y_res.iloc[:,0].value_counts())\n",
    "    undersampled_data = [X_res, y_res]\n",
    "    return undersampled_data\n"
   ]
  },
  {
   "cell_type": "markdown",
   "metadata": {},
   "source": [
    "### Generating synthetic data\n",
    "\n",
    "Paper on the combination of PCA and SMOTE: https://arxiv.org/ftp/arxiv/papers/1403/1403.1949.pdf\n",
    "\n",
    "A technique similar to upsampling is to create synthetic samples. Here we will use imblearn’s SMOTE or Synthetic Minority Oversampling Technique. \n",
    "SMOTE uses a nearest neighbors algorithm to generate new and synthetic data we can use for training our model.\n",
    "\n"
   ]
  },
  {
   "cell_type": "code",
   "execution_count": null,
   "metadata": {},
   "outputs": [],
   "source": [
    "# SMOTE\n",
    "\n",
    "def smote(X_train, y_train):\n",
    "    sm = SMOTE(random_state=27)\n",
    "    X_train, y_train = sm.fit_sample(X_train, y_train)\n",
    "    print(y_train.iloc[:,0].value_counts())\n",
    "    smote_data = [X_train, y_train]\n",
    "    return smote_data\n"
   ]
  },
  {
   "cell_type": "markdown",
   "metadata": {},
   "source": [
    "### Under- and Oversampling \n",
    "\n",
    "After finding out that smote "
   ]
  },
  {
   "cell_type": "code",
   "execution_count": null,
   "metadata": {},
   "outputs": [],
   "source": [
    "# undersample by coping and then oversampling\n",
    "\n",
    "# undesample background\n",
    "X_train_undersampled_multi = undersample_multi(X_train_M_PCA, y_train_M)[0]\n",
    "y_train_undersampled_multi = undersample_multi(X_train_M_PCA, y_train_M)[1]\n",
    "\n",
    "under_and_over_M = smote(X_train_undersampled_multi, y_train_undersampled_multi)"
   ]
  },
  {
   "cell_type": "markdown",
   "metadata": {},
   "source": [
    "### Resampled Datasets\n",
    "\n",
    "Below is a dictionary of all the resampled datasets. It is commented out by default as the top performing datasets were found. \n",
    "Remove comment if you would like to check it again. "
   ]
  },
  {
   "cell_type": "code",
   "execution_count": null,
   "metadata": {},
   "outputs": [],
   "source": [
    "# only uncomment if you want to run graph that compares all the resampled datasets as this takes a while to run\n",
    "resampled_binary_data = {'PCA + SMOTE':smote(X_train_B_PCA,y_train_B), \n",
    "                  'PCA + Oversampled': oversample(X_train_B_PCA, y_train_B),\n",
    "                  'PCA + Undersampled': undersample_bin(X_train_B_PCA,y_train_B),\n",
    "                    'PCA': [X_train_B_PCA,y_train_B]}\n",
    "\n",
    "resampled_multi_data =  {'PCA + Under- and Oversampling': under_and_over_M,\n",
    "                    'PCA': [X_train_M_PCA,y_train_M]}"
   ]
  },
  {
   "cell_type": "code",
   "execution_count": null,
   "metadata": {},
   "outputs": [],
   "source": [
    "# Chosen datasets after running logistic regression\n",
    "smote_PCA_binary = smote(X_train_B_PCA,y_train_B)\n"
   ]
  },
  {
   "cell_type": "code",
   "execution_count": null,
   "metadata": {},
   "outputs": [],
   "source": [
    "X_train_B_smote_PCA = smote_PCA_binary[0]\n",
    "Y_train_B_smote_PCA = smote_PCA_binary[1]\n",
    "X_train_M_PCA\n",
    "\n"
   ]
  },
  {
   "cell_type": "markdown",
   "metadata": {},
   "source": [
    "## 2.4 Training The Model \n",
    "\n",
    "### 2.4.1 Models used \n",
    "\n",
    "- Logistic regression\n",
    "- MLP\n",
    "- Random Forrest - imbalanced dataset with RF https://ieeexplore.ieee.org/abstract/document/4410397\n",
    "\n",
    "\n",
    "\n",
    "The first models that I will use are logistic regression and SVM"
   ]
  },
  {
   "cell_type": "code",
   "execution_count": null,
   "metadata": {},
   "outputs": [],
   "source": [
    "#fit the logistic regression\n",
    "\n",
    "def choose_predict(classifier, X_test,X_train, y_train,is_cross_val):\n",
    "    if is_cross_val == True:\n",
    "        return cross_val_predict(classifier, X_train, y_train, cv=3)\n",
    "    else:\n",
    "        return classifier.predict(X_test)\n",
    "\n",
    "bin_classes = 'background','seal'\n",
    "mult_classes = 'background','dead pup', 'whitecoat', 'moulted pup', 'juvenile'\n",
    "\n",
    "def choose_clf(clf, dataset_type):\n",
    "    if dataset_type == 'binary':\n",
    "        clf_dict= {\n",
    "            'LogReg':LogisticRegression(random_state=0, max_iter=500, solver ='sag',  tol=0.001,),\n",
    "            'RF': RandomForestClassifier(max_depth=120, n_estimators=91, random_state=0, max_features = 72, \n",
    "                                   n_jobs=-1),\n",
    "            'MLP': MLPClassifier(solver='adam', tol=0.0001, learning_rate_init =0.001, momentum =0.2, alpha =0.8,\n",
    "                    n_iter_no_change=10, hidden_layer_sizes =(100,100), max_iter=10000, random_state=27),\n",
    "            'LogReg_RS':LogisticRegression(random_state=0, C=0.03, max_iter=500, solver ='sag',  tol=0.001),\n",
    "        }\n",
    "        return clf_dict[clf]\n",
    "    else:\n",
    "        clf_dict= {\n",
    "            'LogReg':LogisticRegression(random_state=0, max_iter=500, solver ='sag',  tol=0.001,),\n",
    "            'RF': RandomForestClassifier(max_depth=30, n_estimators=99, random_state=0, max_features = 51, \n",
    "                                   n_jobs=-1),\n",
    "            'MLP': MLPClassifier(solver='adam', tol=0.0001, learning_rate_init =0.001, momentum =0.4, alpha =0.6,\n",
    "                    n_iter_no_change=10, hidden_layer_sizes =(100,100), max_iter=10000, random_state=27),\n",
    "            'LogReg_RS':LogisticRegression(random_state=0, C=2.5, max_iter=500, solver ='sag',  tol=0.001),\n",
    "        }\n",
    "        return clf_dict[clf]\n",
    "        \n",
    "        \n",
    "def get_results(y_test, y_pred, dataset_type):\n",
    "    results = {}\n",
    "    if dataset_type == 'binary':\n",
    "        results[\"Accuracy\"] = accuracy_score(y_test, y_pred)\n",
    "        results[\"Precision\"] = precision_score(y_test, y_pred, pos_label='seal')\n",
    "        results[\"Recall\"] = recall_score(y_test, y_pred, pos_label='seal')\n",
    "        results[\"F1 Score\"] = f1_score(y_test, y_pred, pos_label='seal')\n",
    "        results[\"Balanced Accuracy\"] = balanced_accuracy_score(y_test, y_pred)\n",
    "        return results\n",
    "    else:\n",
    "        results[\"Accuracy\"] = accuracy_score(y_test, y_pred)\n",
    "        results[\"Precision\"] = precision_score(y_test, y_pred, average='macro')\n",
    "        results[\"Recall\"] = recall_score(y_test, y_pred, average='macro')\n",
    "        results[\"F1 Score\"] = f1_score(y_test, y_pred, average='macro')\n",
    "        results[\"Balanced Accuracy\"] = balanced_accuracy_score(y_test, y_pred)\n",
    "        return results\n",
    "    \n",
    "def show_confusion_matrix(clf, X_test, y_test, X_train, y_train, class_names, title, is_cross_val):\n",
    "    if is_cross_val == True:\n",
    "        disp = plot_confusion_matrix(clf, X_train, y_train,\n",
    "                                     display_labels=class_names,\n",
    "                                     cmap=plt.cm.Blues, normalize='true', xticks_rotation = 'vertical')\n",
    "\n",
    "    else:\n",
    "        disp = plot_confusion_matrix(clf, X_test, y_test,\n",
    "                                     display_labels=class_names,\n",
    "                                     cmap=plt.cm.Blues, normalize='true', xticks_rotation = 'vertical')       \n",
    "        \n",
    "    disp.ax_.set_title(title)\n",
    "    plt.figure(figsize=(20,20))\n",
    "    plt.show()\n",
    "    \n",
    "def get_cm_and_results(y_test, y_train,  y_pred, dataset_type, is_cross_val):\n",
    "    \"\"\"\n",
    "    Method for getting a confusion matrix and plotting \n",
    "    \"\"\"\n",
    "    if is_cross_val == True:\n",
    "        cm = confusion_matrix(y_train, y_pred)\n",
    "        results = get_results(y_train, y_pred, dataset_type)\n",
    "        return cm, results\n",
    "    else:\n",
    "        cm = confusion_matrix(y_test, y_pred)\n",
    "        results = get_results(y_test, y_pred, dataset_type)\n",
    "        return cm, results\n",
    "        \n",
    "        \n",
    "    \n",
    "    \n",
    "\n",
    "def run_clf(X_train, y_train, X_test, y_test, dataset_name, dataset_type,clf,class_names, is_cross_val):\n",
    "    \"\"\"\n",
    "    Trains the model a chosen classifier and scores it on the given dataset, providing results\n",
    "    for accuracy, precision, recall, f1 score and a confusion matrix\n",
    "    :return: model, results\n",
    "    \"\"\"\"\"\n",
    "    y_train = y_train.values.ravel()\n",
    "    y_test = y_test.values.ravel()\n",
    "    results = {}\n",
    "    model = choose_clf(clf,dataset_type).fit(X_train, y_train)\n",
    "    y_pred = choose_predict(model, X_test, X_train, y_train,is_cross_val)\n",
    "    cm, results = get_cm_and_results(y_test, y_train,  y_pred, dataset_type, is_cross_val)\n",
    "    cm_title = \"{1} Confusion Matrix on the {0} dataset: \\n\".format(dataset_name,clf)\n",
    "    print(\"{1} Performance Results on the {0} dataset: \\n\".format(dataset_name,clf) + str(results))\n",
    "    print(cm)\n",
    "    show_confusion_matrix(model, X_test, y_test, X_train, y_train, class_names, cm_title, is_cross_val)\n",
    "    return model, results\n"
   ]
  },
  {
   "cell_type": "code",
   "execution_count": null,
   "metadata": {},
   "outputs": [],
   "source": [
    "def run_log_on_all_subsets():\n",
    "    \"\"\"\n",
    "    Runs logistic regresssion on all the resampled binary datasets.\n",
    "    Outputs the data seen in Table 1 of the report\n",
    "    \"\"\"\n",
    "    for key in X_train_B_list:\n",
    "        time_start = time.time()\n",
    "        model, results = run_clf(X_train_B_list[key], y_train_B,\n",
    "                                 X_val_B, y_val_B, key,\"binary\",'LogReg', None, True)\n",
    "        print('Prediction done! Time elapsed: {} seconds'.format(time.time()-time_start))\n",
    "        \n",
    "    for key in X_train_M_list:\n",
    "        time_start = time.time()\n",
    "        model, results = run_clf(X_train_M_list[key], y_train_M,\n",
    "                                 X_val_M, y_val_M, key,\"multi\",'LogReg', None, True)\n",
    "        print('Prediction done! Time elapsed: {} seconds'.format(time.time()-time_start))\n"
   ]
  },
  {
   "cell_type": "markdown",
   "metadata": {},
   "source": [
    "### 2.4.2 Finding the best resampled dataset\n",
    "\n",
    "To find the top performing resampled dataset after PCA, I ran logistic regression on each resampled dataset from both \n",
    "the multi and binary datasets and then computed the results. \n",
    "\n"
   ]
  },
  {
   "cell_type": "code",
   "execution_count": null,
   "metadata": {},
   "outputs": [],
   "source": [
    "# Store the performnance results of the resampled datasets for plotting\n",
    "\n",
    "\n",
    "\n",
    "def run_log_on_resampled_bin_data():\n",
    "    \"\"\"\n",
    "    Runs logistic regresssion on all the resampled binary datasets.\n",
    "    Outputs the data seen in Table 3 of the report. \n",
    "    \"\"\"\n",
    "    for key in resampled_binary_data:\n",
    "        time_start = time.time()\n",
    "        model, results = run_clf(resampled_binary_data[key][0], resampled_binary_data[key][1],\n",
    "                                 X_val_B_PCA, y_val_B, key,\"binary\",'LogReg', bin_classes, False)\n",
    "        print('Prediction done! Time elapsed: {} seconds'.format(time.time()-time_start))\n",
    "\n",
    "# run_log_on_resampled_bin_data()"
   ]
  },
  {
   "cell_type": "code",
   "execution_count": null,
   "metadata": {},
   "outputs": [],
   "source": [
    "resampled_mult_accuracies = []\n",
    "resampled_mult_f1_score = []\n",
    "resampled_mult_datasets = []\n",
    "\n",
    "def run_log_on_resampled_mult_data():\n",
    "    \"\"\"\n",
    "    Plots the image seen in Figure 6 of the report. \n",
    "    \"\"\"\n",
    "    for key in resampled_multi_data:\n",
    "        time_start = time.time()\n",
    "        model, results = run_clf(resampled_multi_data[key][0], resampled_multi_data[key][1],\n",
    "                                 X_val_M_PCA, y_val_M, key,\"multi\",'LogReg', None, False)\n",
    "        print('Prediction done! Time elapsed: {} seconds'.format(time.time()-time_start))\n"
   ]
  },
  {
   "cell_type": "code",
   "execution_count": null,
   "metadata": {},
   "outputs": [],
   "source": [
    "\n",
    "def plot_resampled_dataset_performance(resampled_datasets, resampled_dataset_scores):\n",
    "    \"\"\"\n",
    "    Plots the F1 Scores of logistic regresssion after running on the resampled datasets. \n",
    "    \"\"\"\n",
    "    num_cols = resampled_datasets\n",
    "    bar_heights = resampled_dataset_scores\n",
    "\n",
    "    bar_positions = np.arange(3) + 1\n",
    "    tick_positions = range(1,4)\n",
    "\n",
    "    fig, ax = plt.subplots()\n",
    "    ax.bar(bar_positions, bar_heights, 0.5)\n",
    "    ax.set_xticks(tick_positions)\n",
    "    ax.set_xticklabels(num_cols, rotation=90)\n",
    "    ax.set_xlabel(\"Dataset\")\n",
    "    ax.set_ylabel(\"F1 Score (%)\")\n",
    "    ax.set_title(\"F1 Scores of Logistic Regression on the Multi Dataset\")\n",
    "    plt.show()\n",
    "    "
   ]
  },
  {
   "cell_type": "markdown",
   "metadata": {},
   "source": [
    "\n",
    "\n",
    "### 2.4.2 Randomised Search\n",
    "\n",
    "Due to size of the datasets and the opportunity test a large hyperparameter space i decided to run randomised search as opposed to grid search \n",
    "to tune the hyperparameters of RF, MLP classifier and Logistic Regression. Indeed some studies have found randomised search to outperform \n",
    "grid search at a fraction of the computational and time cost (et al) \n",
    "\n",
    "For Rf, the hyperpaaremters i focused on were max depth, n_esimators, max features. These features mean.... For feature x i ranged the parameters ....\n",
    "As reuslts, I found that the top performing model had x \n",
    "\n",
    "Looking at the MLP classifier, i focused on hidden layear, learning rate, and mommenetum. These fetures mean... Ther arange i looked at was ex. \n",
    "\n",
    "Lastly for the logsitic regression, the s "
   ]
  },
  {
   "cell_type": "code",
   "execution_count": null,
   "metadata": {},
   "outputs": [],
   "source": [
    "# Run random search on top performing binary dataset\n",
    "X_train_B_undersampled = resampled_binary_data['PCA + Undersampled'][0]\n",
    "y_train_B_undersampled = resampled_binary_data['PCA + Undersampled'][1]\n",
    "\n",
    "\n",
    "# Run random search on top performing binary dataset\n",
    "X_train_M_UO = resampled_multi_data['PCA + Under- and Oversampling'][0]\n",
    "y_train_M_UO = resampled_multi_data['PCA + Under- and Oversampling'][1]"
   ]
  },
  {
   "cell_type": "code",
   "execution_count": null,
   "metadata": {},
   "outputs": [],
   "source": [
    "# Random search set up\n",
    "\n",
    "# set up parameter distributions \n",
    "rf_param_dist = [ {'n_estimators': sp_randint(1, 100), 'max_features': sp_randint(1, 100), \n",
    "                   'max_depth': [None, 1, 10,15, 30, 40, 45, 50, 60, 80,90,100,120,100]},]      \n",
    "mlp_param_dist = [{'momentum': [0.001, 0.1, 0.2, 0.3, 0.4, 0.5, 0.6, 0.7, 0.8, 0.9],\n",
    "               'learning_rate_init': [0.001, 0.1, 0.2, 0.3, 0.4, 0.5, 0.6, 0.7, 0.8, 0.9],\n",
    "                'alpha': [0.001, 0.1, 0.2, 0.3, 0.4, 0.5, 0.6, 0.7, 0.8, 0.9],\n",
    "              'hidden_layer_sizes':  (sp_randint(1, 1000))}]\n",
    "C = uniform(loc=0, scale=10)\n",
    "log_param_dist = [ {'C': C, 'penalty': ['none', 'l2', 'l1','elasticnet']}]\n",
    "\n",
    "\n",
    "# Set up classifiers\n",
    "mlp = MLPClassifier(solver='adam',\n",
    "                    verbose=False, tol=0.0001,\n",
    "                    n_iter_no_change=10, max_iter=10000, random_state=27)\n",
    "rf = RandomForestClassifier(max_depth=10, n_estimators=10, random_state=0)\n",
    "log = LogisticRegression(random_state=0, max_iter=500, solver ='sag',  tol=0.001)\n",
    "\n",
    "\n",
    "# Set up random search\n",
    "n_iter_search = 100\n",
    "def random_search(param_dist, clf, clf_name, scoring, X_train, y_train, dataset_type):                                                                              \n",
    "    \"\"\"                                                                                                   \n",
    "    Runs grid search and exports data into a csv                                                          \n",
    "    :return:                                                                                              \n",
    "    \"\"\"\"\" \n",
    "    if dataset_type == 'binary':\n",
    "        y_train = pd.DataFrame(y_train)\n",
    "        y_train = y_train.rename(columns={0: \"classes\"})\n",
    "        convert_classes = {\"classes\":     {\"background\": 0, \"seal\": 1}}\n",
    "        y_train.replace(convert_classes, inplace=True)\n",
    "        \n",
    "    y_train = y_train.values.ravel()\n",
    "    random_search_fit = RandomizedSearchCV(estimator=clf,                                                         \n",
    "                                   param_distributions=param_dist,                                                 \n",
    "                                   scoring=scoring, return_train_score=True,\n",
    "                                   n_iter=n_iter_search,\n",
    "                                   cv=3, n_jobs=-1)                                                              \n",
    "                                                                                          \n",
    "    random_search_fit = random_search_fit.fit(X_train, y_train)                                               \n",
    "    random_csv = pd.DataFrame(random_search_fit.cv_results_).to_csv('results/{0} random_search_results .csv'.format(clf_name))"
   ]
  },
  {
   "cell_type": "code",
   "execution_count": null,
   "metadata": {},
   "outputs": [],
   "source": [
    "# All the random searches that were done, I have commented out because they will take very long to run."
   ]
  },
  {
   "cell_type": "code",
   "execution_count": null,
   "metadata": {},
   "outputs": [],
   "source": [
    "# time_start = time.time()\n",
    "# random_search(rf_param_dist, rf, \"rf100_accuracy_binary_NS\", \"accuracy\", X_train_B_PCA, y_train_B, 'binary')\n",
    "# print('Random Search Done! Time elapsed: {} seconds'.format(time.time()-time_start))"
   ]
  },
  {
   "cell_type": "code",
   "execution_count": null,
   "metadata": {},
   "outputs": [],
   "source": [
    "time_start = time.time()\n",
    "random_search(mlp_param_dist, mlp, \"mlp100_accuracy_binary_NS\", \"accuracy\", X_train_B_PCA, y_train_B, 'binary')\n",
    "print('Random Search Done! Time elapsed: {} seconds'.format(time.time()-time_start))"
   ]
  },
  {
   "cell_type": "code",
   "execution_count": null,
   "metadata": {},
   "outputs": [],
   "source": [
    "# time_start = time.time()\n",
    "# random_search(log_param_dist, log, \"log100_accuracy_binary_NS\", \"accuracy\", X_train_B_PCA, y_train_B, 'binary')\n",
    "# print('Random Search Done! Time elapsed: {} seconds'.format(time.time()-time_start))"
   ]
  },
  {
   "cell_type": "code",
   "execution_count": null,
   "metadata": {},
   "outputs": [],
   "source": [
    "# time_start = time.time()\n",
    "# random_search(rf_param_dist, rf, \"rf100_accuracy_multi_NS\", \"accuracy\", X_train_M_PCA, y_train_M, 'multi')\n",
    "# print('Random Search Done! Time elapsed: {} seconds'.format(time.time()-time_start))"
   ]
  },
  {
   "cell_type": "code",
   "execution_count": null,
   "metadata": {},
   "outputs": [],
   "source": [
    "time_start = time.time()\n",
    "random_search(mlp_param_dist, mlp, \"mlp100_accuracy_multi_NS\", \"accuracy\", X_train_M_PCA, y_train_M, 'multi')\n",
    "print('Random Search Done! Time elapsed: {} seconds'.format(time.time()-time_start))"
   ]
  },
  {
   "cell_type": "code",
   "execution_count": null,
   "metadata": {},
   "outputs": [],
   "source": [
    "# time_start = time.time()\n",
    "# random_search(log_param_dist, log, \"log100_accuracy_multi_NS\", \"accuracy\", X_train_M_PCA, y_train_M, 'multi')\n",
    "# print('Random Search Done! Time elapsed: {} seconds'.format(time.time()-time_start))"
   ]
  },
  {
   "cell_type": "markdown",
   "metadata": {},
   "source": [
    "## 3. Evaluation on the validation set \n",
    "\n",
    "After using random search to find the top performing models, I configured them to evaluated them on the testset "
   ]
  },
  {
   "cell_type": "code",
   "execution_count": 48,
   "metadata": {},
   "outputs": [
    {
     "name": "stdout",
     "output_type": "stream",
     "text": [
      "LogReg_RS Performance Results on the Undersampled Binary dataset: \n",
      "{'Accuracy': 0.9687349300755506, 'Precision': 0.9182795698924732, 'Recall': 0.8232647814910026, 'F1 Score': 0.8681802778719078, 'Balanced Accuracy': 0.9063963077030615}\n",
      "[[10772   114]\n",
      " [  275  1281]]\n"
     ]
    },
    {
     "data": {
      "image/png": "[encoded data removed]",
      "text/plain": [
       "<Figure size 432x288 with 2 Axes>"
      ]
     },
     "metadata": {
      "needs_background": "light"
     },
     "output_type": "display_data"
    },
    {
     "data": {
      "text/plain": [
       "<Figure size 1440x1440 with 0 Axes>"
      ]
     },
     "metadata": {},
     "output_type": "display_data"
    },
    {
     "name": "stdout",
     "output_type": "stream",
     "text": [
      "RF Performance Results on the Undersampled Binary dataset: \n",
      "{'Accuracy': 0.9587686867063173, 'Precision': 0.9635555555555556, 'Recall': 0.6966580976863753, 'F1 Score': 0.8086534875046625, 'Balanced Accuracy': 0.8464458961700294}\n",
      "[[10845    41]\n",
      " [  472  1084]]\n"
     ]
    },
    {
     "data": {
      "image/png": "[encoded data removed]",
      "text/plain": [
       "<Figure size 432x288 with 2 Axes>"
      ]
     },
     "metadata": {
      "needs_background": "light"
     },
     "output_type": "display_data"
    },
    {
     "data": {
      "text/plain": [
       "<Figure size 1440x1440 with 0 Axes>"
      ]
     },
     "metadata": {},
     "output_type": "display_data"
    },
    {
     "name": "stdout",
     "output_type": "stream",
     "text": [
      "MLP Performance Results on the Undersampled Binary dataset: \n",
      "{'Accuracy': 0.9770937148368429, 'Precision': 0.9373709566414316, 'Recall': 0.8753213367609255, 'F1 Score': 0.9052841475573281, 'Balanced Accuracy': 0.9334809880571117}\n",
      "[[10795    91]\n",
      " [  194  1362]]\n"
     ]
    },
    {
     "data": {
      "image/png": "[encoded data removed]",
      "text/plain": [
       "<Figure size 432x288 with 2 Axes>"
      ]
     },
     "metadata": {
      "needs_background": "light"
     },
     "output_type": "display_data"
    },
    {
     "data": {
      "text/plain": [
       "<Figure size 1440x1440 with 0 Axes>"
      ]
     },
     "metadata": {},
     "output_type": "display_data"
    }
   ],
   "source": [
    "# Tuned models \n",
    "binary_dataset_name = \"Undersampled Binary\"\n",
    "multi_dataset_name = \"Under- and Oversampled\"\n",
    "clfs = [\"LogReg_RS\", 'RF','MLP']\n",
    "clf_binary_results = {}\n",
    "clf_multi_results = {}\n",
    "\n",
    "def get_results_on_validation_binary():\n",
    "    \"\"\"\n",
    "    Trains all classifiers to make predictions on the validation multi class dataset. \n",
    "    Corresponds to the data seen in Table 4\n",
    "    \"\"\"\n",
    "    for clf in clfs:\n",
    "        clf_model, clf_results = run_clf(X_train_B_PCA, y_train_B,\n",
    "                                     X_val_B_PCA, y_val_B, binary_dataset_name,'binary',clf, None, False)\n",
    "        clf_output = [clf_model, clf_results]\n",
    "        clf_binary_results[clf] = clf_output\n",
    "get_results_on_validation_binary()"
   ]
  },
  {
   "cell_type": "code",
   "execution_count": null,
   "metadata": {},
   "outputs": [],
   "source": []
  },
  {
   "cell_type": "code",
   "execution_count": 49,
   "metadata": {},
   "outputs": [
    {
     "name": "stdout",
     "output_type": "stream",
     "text": [
      "LogReg_RS Performance Results on the Under- and Oversampled dataset: \n",
      "{'Accuracy': 0.9435782028612764, 'Precision': 0.590144257981828, 'Recall': 0.5600334365571077, 'F1 Score': 0.5676125139953851, 'Balanced Accuracy': 0.5600334365571077}\n",
      "[[10776     7    19    30    55]\n",
      " [   11     9     1     8    26]\n",
      " [   18     0    27     0     5]\n",
      " [  134     8     8   146   158]\n",
      " [  109    18     5    82   782]]\n"
     ]
    },
    {
     "data": {
      "image/png": "[encoded data removed]",
      "text/plain": [
       "<Figure size 432x288 with 2 Axes>"
      ]
     },
     "metadata": {
      "needs_background": "light"
     },
     "output_type": "display_data"
    },
    {
     "data": {
      "text/plain": [
       "<Figure size 1440x1440 with 0 Axes>"
      ]
     },
     "metadata": {},
     "output_type": "display_data"
    },
    {
     "name": "stderr",
     "output_type": "stream",
     "text": [
      "/cs/home/ybk1/Documents/Modules/CS5014/Classification/env/lib64/python3.7/site-packages/sklearn/metrics/_classification.py:1272: UndefinedMetricWarning: Precision is ill-defined and being set to 0.0 in labels with no predicted samples. Use `zero_division` parameter to control this behavior.\n",
      "  _warn_prf(average, modifier, msg_start, len(result))\n"
     ]
    },
    {
     "name": "stdout",
     "output_type": "stream",
     "text": [
      "RF Performance Results on the Under- and Oversampled dataset: \n",
      "{'Accuracy': 0.9279858543642501, 'Precision': 0.33675273992056354, 'Recall': 0.33470094209851253, 'F1 Score': 0.3352560092215541, 'Balanced Accuracy': 0.33470094209851253}\n",
      "[[10874     0     0     0    13]\n",
      " [   33     0     0     0    22]\n",
      " [   45     0     0     0     5]\n",
      " [  259     0     0     0   195]\n",
      " [  322     0     0     2   672]]\n"
     ]
    },
    {
     "data": {
      "image/png": "[encoded data removed]",
      "text/plain": [
       "<Figure size 432x288 with 2 Axes>"
      ]
     },
     "metadata": {
      "needs_background": "light"
     },
     "output_type": "display_data"
    },
    {
     "data": {
      "text/plain": [
       "<Figure size 1440x1440 with 0 Axes>"
      ]
     },
     "metadata": {},
     "output_type": "display_data"
    },
    {
     "name": "stdout",
     "output_type": "stream",
     "text": [
      "MLP Performance Results on the Under- and Oversampled dataset: \n",
      "{'Accuracy': 0.9496865455714515, 'Precision': 0.6687435432450772, 'Recall': 0.5575717801922564, 'F1 Score': 0.5910075498232092, 'Balanced Accuracy': 0.5575717801922564}\n",
      "[[10810     0     4    34    39]\n",
      " [   11     7     1    14    22]\n",
      " [   19     0    23     4     4]\n",
      " [  106     3     8   190   147]\n",
      " [   67     5     2   136   786]]\n"
     ]
    },
    {
     "data": {
      "image/png": "[encoded data removed]",
      "text/plain": [
       "<Figure size 432x288 with 2 Axes>"
      ]
     },
     "metadata": {
      "needs_background": "light"
     },
     "output_type": "display_data"
    },
    {
     "data": {
      "text/plain": [
       "<Figure size 1440x1440 with 0 Axes>"
      ]
     },
     "metadata": {},
     "output_type": "display_data"
    }
   ],
   "source": [
    "def get_results_on_validation_multi():\n",
    "    \"\"\"\n",
    "    Trains all classifiers to make predictions on the validation multi class dataset. \n",
    "    Corresponds to the data seen in Table 4\n",
    "    \"\"\"\n",
    "    for clf in clfs:\n",
    "        clf_model, clf_results = run_clf(X_train_M_PCA, y_train_M,\n",
    "                                     X_val_M_PCA, y_val_M, multi_dataset_name,'multi',clf, None, False)\n",
    "        clf_output = [clf_model, clf_results]\n",
    "        clf_multi_results[clf] = clf_output\n",
    "        \n",
    "get_results_on_validation_multi()"
   ]
  },
  {
   "cell_type": "markdown",
   "metadata": {},
   "source": [
    "### Plot the ROC curve \n",
    "\n",
    "the ROC curve plots the true positive rate (another name for recall) against the false positive rate. The FPR is the ratio of negative instances that are incorrectly classified as positive. It is equal to one minus the true negative rate, which is the ratio of negative instances that are correctly classified as negative. The TNR is also called specificity. Hence the ROC curve plots sensitivity (recall) versus 1 – specificity."
   ]
  },
  {
   "cell_type": "code",
   "execution_count": 41,
   "metadata": {},
   "outputs": [],
   "source": [
    "clf_binary_results \n",
    "clf_multi_results\n",
    "def plot_roc_curve(results):\n",
    "    \"\"\"\n",
    "    Plots the receiving operating characteristic curve. \n",
    "    Corresponds to Figure 7 in the report\n",
    "    \"\"\" \n",
    "    plt.figure(figsize=(8, 6))\n",
    "    plt.xlim(0, 0.2)\n",
    "    plt.ylim(0.8, 1)\n",
    "    for key in results:\n",
    "        model = results[key][0]\n",
    "        y_pred_proba = model.predict_proba(X_val_B_PCA)[:, 1]\n",
    "        fpr, tpr, thresholds = roc_curve(y_val_B, y_pred_proba, pos_label='seal')\n",
    "        plt.plot(fpr, tpr, linewidth=2, label=key)\n",
    "\n",
    "    plt.plot([0, 1], [0, 1], 'k--') # dashed diagonal\n",
    "    plt.axis([0, 1, 0, 1])\n",
    "    plt.xlabel('False Positive Rate', fontsize=16) \n",
    "    plt.ylabel('True Positive Rate (Recall)', fontsize=16)    \n",
    "    plt.grid(True)\n",
    "    plt.title('ROC curve')\n",
    "    plt.legend(loc='best')\n",
    "    plt.show()\n",
    "\n",
    "def plot_precision_recall_curve(results):\n",
    "    \"\"\"\n",
    "    Plots precision vs recall. \n",
    "    \"\"\"\n",
    "    plt.figure(figsize=(8, 6))\n",
    "    plt.xlim(0, 0.2)\n",
    "    plt.ylim(0.8, 1)\n",
    "    for key in results:\n",
    "        model = results[key][0]\n",
    "        y_pred_proba = model.predict_proba(X_val_B_PCA)[:, 1]\n",
    "        precisions, recalls, thresholds = precision_recall_curve(y_val_B, y_pred_proba, pos_label='seal')\n",
    "        plt.plot(precisions, recalls, linewidth=2, label=key)\n",
    "\n",
    "    plt.plot([0, 1], [0, 1], 'k--') # dashed diagonal\n",
    "    plt.axis([0, 1, 0, 1])\n",
    "    plt.xlabel('Recall', fontsize=16) \n",
    "    plt.ylabel('Precision', fontsize=16)    \n",
    "    plt.grid(True)\n",
    "    plt.title('Precision Recall curve')\n",
    "    plt.legend(loc='best')\n",
    "    plt.show()\n",
    "        \n",
    "\n"
   ]
  },
  {
   "cell_type": "code",
   "execution_count": 42,
   "metadata": {},
   "outputs": [
    {
     "data": {
      "image/png": "[encoded data removed]",
      "text/plain": [
       "<Figure size 576x432 with 1 Axes>"
      ]
     },
     "metadata": {
      "needs_background": "light"
     },
     "output_type": "display_data"
    }
   ],
   "source": [
    "plot_precision_recall_curve(clf_binary_results)"
   ]
  },
  {
   "cell_type": "code",
   "execution_count": 43,
   "metadata": {},
   "outputs": [
    {
     "data": {
      "image/png": "[encoded data removed]",
      "text/plain": [
       "<Figure size 576x432 with 1 Axes>"
      ]
     },
     "metadata": {
      "needs_background": "light"
     },
     "output_type": "display_data"
    }
   ],
   "source": [
    "plot_roc_curve(clf_binary_results)"
   ]
  },
  {
   "cell_type": "markdown",
   "metadata": {},
   "source": [
    "# 4. Predictions on the Test Set\n",
    "\n",
    "Here i pick the top performing models on the binary and multi datasets to make predictions on the test set. \n",
    "The predictions are then saved in a csv file for submission. \n"
   ]
  },
  {
   "cell_type": "code",
   "execution_count": 47,
   "metadata": {},
   "outputs": [
    {
     "data": {
      "text/plain": [
       "(20335, 474)"
      ]
     },
     "execution_count": 47,
     "metadata": {},
     "output_type": "execute_result"
    }
   ],
   "source": [
    "# Binary model \n",
    "final_binary_model = clf_binary_results[\"MLP\"][0]\n",
    "y_test_Binary = final_binary_model.predict(X_test_binary_PCA)\n",
    "# y_test_binary = pd.DataFrame(y_test_Binary).to_csv('output files/binary/Y_test.csv')\n",
    "X_test_binary_PCA.shape"
   ]
  },
  {
   "cell_type": "code",
   "execution_count": 45,
   "metadata": {},
   "outputs": [],
   "source": [
    "# multi model \n",
    "final_multi_model = clf_multi_results[\"MLP\"][0]\n",
    "y_test_Multi = final_multi_model.predict(X_test_multi_PCA)\n",
    "# y_test_Multi = pd.DataFrame(y_test_Multi).to_csv('output files/multi/Y_test.csv')"
   ]
  }
 ],
 "metadata": {
  "kernelspec": {
   "display_name": "Python 3",
   "language": "python",
   "name": "python3"
  },
  "language_info": {
   "codemirror_mode": {
    "name": "ipython",
    "version": 3
   },
   "file_extension": ".py",
   "mimetype": "text/x-python",
   "name": "python",
   "nbconvert_exporter": "python",
   "pygments_lexer": "ipython3",
   "version": "3.7.7"
  }
 },
 "nbformat": 4,
 "nbformat_minor": 4
}
