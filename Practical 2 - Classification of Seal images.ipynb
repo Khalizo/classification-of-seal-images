{
 "cells": [
  {
   "cell_type": "code",
   "execution_count": 2,
   "metadata": {},
   "outputs": [],
   "source": [
    "from numpy import array\n",
    "import pandas as pd\n",
    "import numpy as np\n",
    "import sklearn as sk\n",
    "import matplotlib as mp\n",
    "import time\n",
    "import seaborn as sb\n",
    "import matplotlib as mpl \n",
    "import matplotlib.pyplot as plt\n",
    "from sklearn.decomposition import PCA\n",
    "from mpl_toolkits.mplot3d import Axes3D\n",
    "from sklearn.manifold import TSNE\n",
    "%matplotlib inline\n",
    "from sklearn.model_selection import cross_val_score\n",
    "from sklearn.svm import SVC\n",
    "from sklearn.metrics import plot_confusion_matrix\n",
    "from sklearn.linear_model import LogisticRegression\n",
    "from sklearn.linear_model import SGDClassifier\n",
    "from sklearn.preprocessing import StandardScaler\n",
    "from sklearn.metrics import precision_score, recall_score, confusion_matrix, f1_score\n",
    "from sklearn.model_selection import cross_val_predict\n",
    "from sklearn.ensemble import RandomForestClassifier\n",
    "from sklearn.model_selection import train_test_split"
   ]
  },
  {
   "cell_type": "markdown",
   "metadata": {},
   "source": [
    "# Sections of the report \n",
    "\n",
    "-\tAbstract\n",
    "-\tIntroduction\n",
    "-\tMethods\n",
    "    -\tCleaning the data and creating new input features\n",
    "    - Analysing and visualising the data\n",
    "    - Preparing the inputs and choosing suitable features\n",
    "    - Selecting and training a model\n",
    "- Training the model\n",
    "- K fold cross validation\n",
    "- Fine-tuning the models\n",
    "-\tEvaluation\n",
    "-\tDiscussion \n",
    "-\tConclusion\n"
   ]
  },
  {
   "cell_type": "markdown",
   "metadata": {},
   "source": [
    "## 1. Introduction\n",
    "\n",
    "This study will be taking a data driven approach towards classifying images of seals. The dataset used "
   ]
  },
  {
   "cell_type": "markdown",
   "metadata": {},
   "source": [
    "## 2. Method\n",
    "\n",
    "### 2.1 Loading and cleaning the data set\n"
   ]
  },
  {
   "cell_type": "code",
   "execution_count": 3,
   "metadata": {},
   "outputs": [],
   "source": [
    "# Load the datasets\n",
    "\n",
    "#binary datasets\n",
    "X_train_binary = pd.read_csv('/data/CS5014-P2/binary/X_train.csv', header=None)\n",
    "Y_train_binary = pd.read_csv('/data/CS5014-P2/binary/Y_train.csv', header=None)\n",
    "X_test_binary = pd.read_csv('/data/CS5014-P2/binary/X_test.csv', header=None)\n",
    "\n",
    "#multi datasets\n",
    "X_train_multi = pd.read_csv('/data/CS5014-P2/multi/X_train.csv', header=None)\n",
    "Y_train_multi = pd.read_csv('/data/CS5014-P2/multi/Y_train.csv', header=None)\n",
    "X_test_multi = pd.read_csv('/data/CS5014-P2/multi/X_test.csv', header=None)"
   ]
  },
  {
   "cell_type": "markdown",
   "metadata": {},
   "source": [
    "###  Cleaning the dataset"
   ]
  },
  {
   "cell_type": "markdown",
   "metadata": {},
   "source": [
    "a) **Check for Null-values and inconsistent data types:** Upon looking at that dataset, we can see that each column has an equal amount of non-null values, indicating that there are **no instances** of missing data. Moreover, all the data types are float64, indicating a consistency in data format"
   ]
  },
  {
   "cell_type": "code",
   "execution_count": 4,
   "metadata": {},
   "outputs": [
    {
     "name": "stdout",
     "output_type": "stream",
     "text": [
      "<class 'pandas.core.frame.DataFrame'>\n",
      "RangeIndex: 62210 entries, 0 to 62209\n",
      "Columns: 964 entries, 0 to 963\n",
      "dtypes: float64(964)\n",
      "memory usage: 457.5 MB\n",
      "None\n",
      "<class 'pandas.core.frame.DataFrame'>\n",
      "RangeIndex: 62210 entries, 0 to 62209\n",
      "Columns: 964 entries, 0 to 963\n",
      "dtypes: float64(964)\n",
      "memory usage: 457.5 MB\n",
      "None\n"
     ]
    }
   ],
   "source": [
    "# Check for Null-values\n",
    "print(X_train_multi.info(null_counts=True))\n",
    "print(X_train_binary.info(null_counts=True))"
   ]
  },
  {
   "cell_type": "markdown",
   "metadata": {},
   "source": [
    "b) **Check for duplicate values**: No duplicate values were found"
   ]
  },
  {
   "cell_type": "code",
   "execution_count": 7,
   "metadata": {
    "scrolled": true
   },
   "outputs": [
    {
     "name": "stdout",
     "output_type": "stream",
     "text": [
      "0\n",
      "62208\n",
      "0\n",
      "0\n",
      "0\n",
      "0\n"
     ]
    }
   ],
   "source": [
    "# remove duplicate rows\n",
    "datasets = [X_train_binary,Y_train_binary, X_test_binary, X_train_multi, X_train_multi, X_test_multi]\n",
    "\n",
    "for data in datasets:\n",
    "    duplicate_rows = data[data.duplicated()]\n",
    "    print(len(duplicate_rows))"
   ]
  },
  {
   "cell_type": "markdown",
   "metadata": {},
   "source": [
    "No null values, no duplicate and all the data types were for the dtype float64. Nothing needed to change so will proceed to visualising the dataset\n"
   ]
  },
  {
   "cell_type": "markdown",
   "metadata": {},
   "source": [
    "### 2.2 Create a preliminary test set\n",
    "\n",
    "Despite there being a already a test set in place, a preliminary test set was created, to evaluate the performance of the model and to see how well the model could\n",
    "generalise on unseen data. The training data was split with an 80/20 split in stratified fashion, in order to keep the proportion of the classes as the dataset\n",
    "was already heavily imbalanced."
   ]
  },
  {
   "cell_type": "code",
   "execution_count": 8,
   "metadata": {},
   "outputs": [],
   "source": [
    "# Splits the training set\n",
    "X_train_B, X_pre_test_B, y_train_B, y_pre_test_B = train_test_split(X_train_binary, Y_train_binary, test_size=0.20, stratify=Y_train_binary, random_state=27)\n",
    "X_train_M, X_pre_test_M, y_train_M, y_pre_test_M = train_test_split(X_train_multi, Y_train_multi, test_size=0.20, stratify=Y_train_multi, random_state=27)\n",
    "\n",
    "# Resets the indexes\n",
    "X_train_B = X_train_B.reset_index(drop=True)\n",
    "X_pre_test_B = X_pre_test_B.reset_index(drop=True)\n",
    "y_train_B = y_train_B.reset_index(drop=True)\n",
    "y_pre_test_B = y_pre_test_B.reset_index(drop=True)\n",
    "\n",
    "X_train_M = X_train_M.reset_index(drop=True)\n",
    "X_pre_test_M = X_pre_test_M.reset_index(drop=True)\n",
    "y_train_M = y_train_M.reset_index(drop=True)\n",
    "y_pre_test_M = y_pre_test_M.reset_index(drop=True)"
   ]
  },
  {
   "cell_type": "markdown",
   "metadata": {},
   "source": [
    "### 2.2 Analysing and Visualising the dataset\n",
    "\n",
    "#### 2.2.1 Visualising the images\n",
    "\n",
    "\n",
    "The dataset has 62210 images, with around 964 features. To visualise the images, I sliced the first\n",
    "900 columns to get the Histogram of Orientated Gradient (HOG) features and picked an image from each class found in the Y_train datasets\n",
    "\n",
    "Figure 1 below, showes the images taken from the binary dataset, where classes are either background and seal. \n",
    "Figure 2, shows images from the multi dataset, where images are background, dead pup, whitecoat, moulted pup, juvenile"
   ]
  },
  {
   "cell_type": "code",
   "execution_count": 9,
   "metadata": {},
   "outputs": [],
   "source": [
    "bin_classes = ['background','seal']\n",
    "mult_classes = ['background','dead pup', 'whitecoat', 'moulted pup', 'juvenile']\n",
    "\n",
    "def get_rows_and_titles(classes, dataset, num):\n",
    "    rows = np.array([])\n",
    "    titles = np.array([])\n",
    "    for i in classes:\n",
    "        filt = dataset.iloc[:,0] == i\n",
    "        filtered_data = dataset[filt].head(num)\n",
    "        rows = np.concatenate([rows, filtered_data.index.values])\n",
    "        titles = np.concatenate([titles, array(filtered_data.iloc[:,0])])\n",
    "    \n",
    "    return rows.astype(int), titles  \n",
    "      \n",
    "        \n",
    "bin_rows, bin_titles = get_rows_and_titles(bin_classes, y_train_B,5)\n",
    "mult_rows, mult_titles = get_rows_and_titles(mult_classes, y_train_M,2)\n",
    "\n"
   ]
  },
  {
   "cell_type": "code",
   "execution_count": 10,
   "metadata": {},
   "outputs": [
    {
     "data": {
      "image/png": "[encoded data removed]",
      "text/plain": [
       "<Figure size 720x360 with 10 Axes>"
      ]
     },
     "metadata": {
      "needs_background": "light"
     },
     "output_type": "display_data"
    }
   ],
   "source": [
    "# classes in the  binary dataset\n",
    "no_rows_bin  = 2\n",
    "no_rows_mult = 2\n",
    "def print_images(no_rows,row_numbers, titles, dataset, width, height): \n",
    "    fig = plt.figure(figsize=(width, height))\n",
    "    for i in range(1, len(row_numbers) +1): \n",
    "        output = array(dataset.iloc[row_numbers[i-1], :900])\n",
    "        output_image = output.reshape(30, 30)\n",
    "        fig.add_subplot(no_rows, 5, i)\n",
    "        plt.imshow(output_image, cmap = mpl.cm.binary, interpolation=\"nearest\")\n",
    "        plt.title(titles[i-1])\n",
    "        plt.axis(\"on\")\n",
    "        \n",
    "    plt.show()\n",
    "\n",
    "print_images(no_rows_bin, bin_rows, bin_titles, X_train_B,10,5)"
   ]
  },
  {
   "cell_type": "code",
   "execution_count": 11,
   "metadata": {},
   "outputs": [
    {
     "data": {
      "image/png": "[encoded data removed]",
      "text/plain": [
       "<Figure size 720x360 with 10 Axes>"
      ]
     },
     "metadata": {
      "needs_background": "light"
     },
     "output_type": "display_data"
    }
   ],
   "source": [
    "print_images(no_rows_mult, mult_rows, mult_titles, X_train_M,10,5)"
   ]
  },
  {
   "cell_type": "markdown",
   "metadata": {},
   "source": [
    "In both datasets, we can see that the \"backgound\" classes appears to have the least amount of dark pixelation compared to the others. \n",
    "In the mult-classification dataset, the whitecoat image appears to be the most distinct\n",
    "\n",
    "#### 2.2.2 Visualising the class distribution in the data\n",
    "\n",
    "To understand the distribution of the classes in both the binary and multi datasets, I visualised the frequency distribution of the classes\n"
   ]
  },
  {
   "cell_type": "code",
   "execution_count": 12,
   "metadata": {},
   "outputs": [],
   "source": [
    "# prepare data for visualisation\n",
    "bin_freq= y_train_B.iloc[:,0].value_counts()\n",
    "mult_freq= y_train_M.iloc[:,0].value_counts()\n",
    "\n",
    "mult_classes = array(mult_freq.keys())\n",
    "mult_data = mult_freq.values\n",
    "bin_classes = array(bin_freq.keys())\n",
    "bin_data = bin_freq.values\n",
    "\n",
    "classes = [mult_classes, bin_classes]\n",
    "mult_and_bin_freq = [mult_data, bin_data]\n",
    "titles = [\"Multi\",\"Binary\"]\n"
   ]
  },
  {
   "cell_type": "code",
   "execution_count": 13,
   "metadata": {},
   "outputs": [
    {
     "data": {
      "image/png": "[encoded data removed]",
      "text/plain": [
       "<Figure size 432x216 with 1 Axes>"
      ]
     },
     "metadata": {
      "needs_background": "light"
     },
     "output_type": "display_data"
    },
    {
     "data": {
      "image/png": "[encoded data removed]",
      "text/plain": [
       "<Figure size 432x216 with 1 Axes>"
      ]
     },
     "metadata": {
      "needs_background": "light"
     },
     "output_type": "display_data"
    }
   ],
   "source": [
    "# X_train_multi.iloc[:,0].value_counts().plot(kind='barh') #horizontal bar plot\n",
    "\n",
    "def get_pct(array, value):\n",
    "    pct = value/array.sum()\n",
    "    pct_string =  \" ({:.2%})\".format(pct)\n",
    "    return pct_string\n",
    "#\n",
    "def plot_class_dist(data,classes, title):\n",
    "    fig, ax = plt.subplots(figsize=(6, 3))    \n",
    "    width = 0.75 # the width of the bars \n",
    "    ind = np.arange(len(data))  # the x locations for the groups\n",
    "    ax.barh(ind, data, width, color=\"blue\")\n",
    "    ax.set_yticks(ind+width/2)\n",
    "    ax.set_yticklabels(classes, minor=False)\n",
    "    plt.title(\"Class Frequency Distribution of the \" + title +  \" Dataset\")\n",
    "    plt.xlabel('Frequency')\n",
    "    plt.ylabel('Classes')\n",
    "    for i, v in enumerate(data):\n",
    "        ax.text(v + 3, i + .25, str(v) + get_pct(data,v), color='green', fontweight='bold')\n",
    "    plt.show()\n",
    "    \n",
    "for i in range(2):\n",
    "    plot_class_dist(mult_and_bin_freq[i],classes[i],titles[i])"
   ]
  },
  {
   "cell_type": "markdown",
   "metadata": {},
   "source": [
    "It is evident that both datasets are heavily skewed towards the background class, accounting for 87.5% of the dataset. Given this large proportion of the background class in the dataset,\n",
    "it may be no suprise that the classification algorithm is able to classify the background class very well. On the other hand, the juvenile and moulted pup classes\n",
    "account for 0.40% and 0.45% respectively. Given the skewed data set it will make sense to stratify the training sets to keep a consistent distribution. "
   ]
  },
  {
   "cell_type": "markdown",
   "metadata": {},
   "source": [
    "#### 2.2.3 Visualising Variance Using PCA and t-SNE\n",
    "\n",
    "**PCA**\n",
    "\n",
    "PCA is a technique for reducing the number of dimensions in a dataset whilst retaining most information. It is using the correlation between some dimensions and tries to provide a minimum number of variables that keeps the maximum amount of variation or information about how the original data is distributed.\n",
    "https://towardsdatascience.com/visualising-high-dimensional-datasets-using-pca-and-t-sne-in-python-8ef87e7915b\n",
    "\n",
    "The explained variance ratio indicates the proportion of the dataset’s variance that lies along the axis of each principal component. Therefore 35.6% of the datasets variance lies in the first axis, 20.1% in the 2nd axis and 14% in the 3rd axis. Hence the first three components account for 69.7% of the entire dataset, lets see if that is enough to visually set the classes apart \n",
    "\n",
    "PCA identifies the axis that accounts for the largest amount of variance in the training set. It then finds a 2nd axis which is orthogonal to the first and 3rd which is orthogonal to both axes. \n",
    "\n",
    "We can see from Figure 3, that data relating to the seal has the highest variance as it dominates the X axis of PCA 1. The data relating to background, appears to have a lower variance as it appears for the highest PCA values for PCA 2\n"
   ]
  },
  {
   "cell_type": "markdown",
   "metadata": {},
   "source": [
    "**t-SNE**\n",
    "\n",
    "original paper = http://jmlr.org/papers/volume9/vandermaaten08a/vandermaaten08a.pdf\n",
    "t-Distributed Stochastic Neighbor Embedding (t-SNE) is another technique for dimensionality reduction and is particularly well suited for the visualization of high-dimensional datasets. Contrary to PCA it is not a mathematical technique but a probablistic one.\n"
   ]
  },
  {
   "cell_type": "code",
   "execution_count": null,
   "metadata": {},
   "outputs": [
    {
     "name": "stdout",
     "output_type": "stream",
     "text": [
      "Explained variation per principal component: [0.09087661 0.06528279 0.05017037]\n",
      "[t-SNE] Computing 121 nearest neighbors...\n",
      "[t-SNE] Indexed 10000 samples in 1.507s...\n"
     ]
    }
   ],
   "source": [
    "# scale binary dataset\n",
    "std_B = StandardScaler().fit(X_train_B)\n",
    "X_train_B_std = std_B.transform(X_train_B)\n",
    "\n",
    "# scale multi dataset\n",
    "std_M = StandardScaler().fit(X_train_M)\n",
    "X_train_M_std = std_M.transform(X_train_M)\n",
    "\n",
    "# data lists\n",
    "X_train_std_list = [X_train_M_std, X_train_B_std]\n",
    "X_train_list = [X_train_M,X_train_B]\n",
    "Y_train_list = [y_train_M,y_train_B]\n",
    "no_colors = [5,2]\n",
    "\n",
    "def plot_pca_and_tsne(x_train,y_train, no_colors, title):\n",
    "    # prepare data for visualisation\n",
    "    y = array(y_train.iloc[:,0])\n",
    "    feat_cols = ['pixel'+str(i) for i in range(X_train_B.shape[1])]\n",
    "    df = pd.DataFrame(array(x_train), columns=feat_cols)\n",
    "    df['y'] = y\n",
    "    df['label'] = df['y'].apply(lambda i: str(i))\n",
    "\n",
    "    X, y = None, None\n",
    "    \n",
    "    # add random perm\n",
    "    np.random.seed(42)\n",
    "    rndperm = np.random.permutation(x_train.shape[0])\n",
    "\n",
    "    # Set PCA components\n",
    "    N = 10000\n",
    "    df_subset = df.loc[rndperm[:N],:].copy()\n",
    "    data_subset = df_subset[feat_cols].values\n",
    "    pca = PCA(n_components=3)\n",
    "    pca_result = pca.fit_transform(data_subset)\n",
    "    df_subset['pca-one'] = pca_result[:,0]\n",
    "    df_subset['pca-two'] = pca_result[:,1] \n",
    "    df_subset['pca-three'] = pca_result[:,2]\n",
    "    print('Explained variation per principal component: {}'.format(pca.explained_variance_ratio_))\n",
    "\n",
    "    # Set TSNE components\n",
    "    time_start = time.time()\n",
    "    tsne = TSNE(n_components=2, verbose=1, perplexity=40, n_iter=300)\n",
    "    tsne_results = tsne.fit_transform(data_subset)\n",
    "    print('t-SNE done! Time elapsed: {} seconds'.format(time.time()-time_start))\n",
    "    df_subset['tsne-2d-one'] = tsne_results[:,0]\n",
    "    df_subset['tsne-2d-two'] = tsne_results[:,1]\n",
    "    \n",
    "    # plot PCA and TSNE components\n",
    "    plt.figure(figsize=(16,7))\n",
    "    ax1 = plt.subplot(1, 2, 1)\n",
    "    sb.scatterplot(\n",
    "        x=\"pca-one\", y=\"pca-two\",\n",
    "        hue=\"y\",\n",
    "        palette=sb.color_palette(\"hls\", no_colors),\n",
    "        data=df_subset,\n",
    "        legend=\"full\",\n",
    "        alpha=0.3,\n",
    "        ax=ax1\n",
    "    )\n",
    "    ax1.set_title(title + \" dataset\")\n",
    "    ax2 = plt.subplot(1, 2, 2)\n",
    "    sb.scatterplot(\n",
    "        x=\"tsne-2d-one\", y=\"tsne-2d-two\",\n",
    "        hue=\"y\",\n",
    "        palette=sb.color_palette(\"hls\", no_colors),\n",
    "        data=df_subset,\n",
    "        legend=\"full\",\n",
    "        alpha=0.3,\n",
    "        ax=ax2\n",
    "    )\n",
    "    ax2.set_title(title + \" dataset\")\n",
    "    \n",
    "for i in range (2):\n",
    "    plot_pca_and_tsne(X_train_std_list[i], Y_train_list[i], no_colors[i], titles[i])"
   ]
  },
  {
   "cell_type": "markdown",
   "metadata": {},
   "source": [
    "### 2.3 Preparing the inputs and choosing suitable features (TODO)\n",
    "\n",
    "- Discuss about the features and their properties i.e HOG features, their importance and everything else\n",
    "- Understand the correlation of the features with one another\n",
    "\n",
    "\n",
    "To have a better understanding of how the features related with one a"
   ]
  },
  {
   "cell_type": "markdown",
   "metadata": {},
   "source": [
    "#### 2.3.1 Choosing Suitable features \n",
    "\n",
    "Since the data is split up into three different groups, I decided to test different feature subsets using a baseline logistic regression, in order to choose a \n",
    "specific subset for further training and optimising. "
   ]
  },
  {
   "cell_type": "code",
   "execution_count": 39,
   "metadata": {},
   "outputs": [],
   "source": [
    "# Binary dataset feature subsets\n",
    "X_train_B_HoG = X_train_B.iloc[:, :900]\n",
    "X_train_B_normal = X_train_B.iloc[:, 900:916]\n",
    "X_train_B_colour = X_train_B.iloc[:, 916:964]\n",
    "X_train_B_list=[X_train_B, X_train_B_HoG, X_train_B_normal, X_train_B_colour]\n",
    "\n",
    "# Binary dataset feature subsets\n",
    "X_train_M_HoG = X_train_B.iloc[:, :900]\n",
    "X_train_M_normal = X_train_B.iloc[:, 900:916]\n",
    "X_train_M_colour = X_train_B.iloc[:, 916:964]\n",
    "X_train_M_list=[X_train_M, X_train_M_HoG, X_train_M_normal, X_train_M_colour]\n"
   ]
  },
  {
   "cell_type": "markdown",
   "metadata": {},
   "source": [
    "#### 2.3.2 Scaling\n",
    "\n",
    "Would be interesting to see how scaling affects the performance. Given that the Hog Features data set performaed the best, I decided \n",
    "to focus on scaling this for both the multi and binary data sets to see if this would imporve performance\n",
    "\n"
   ]
  },
  {
   "cell_type": "code",
   "execution_count": 40,
   "metadata": {},
   "outputs": [],
   "source": [
    "# scale binary dataset\n",
    "std_B_HoG = StandardScaler().fit(X_train_B_HoG)\n",
    "X_train_B_std_HoG = std_B_HoG.transform(X_train_B_HoG)\n",
    "\n",
    "# scale multi dataset\n",
    "std_M_HoG = StandardScaler().fit(X_train_M_HoG)\n",
    "X_train_M_std_HoG = std_M_HoG.transform(X_train_M_HoG)"
   ]
  },
  {
   "cell_type": "markdown",
   "metadata": {},
   "source": [
    "#### 2.3.3 Dimensionality reduction with PCA\n",
    "\n",
    "Earlier dimensionality reduction was used for visualisation, now it will be used for training and evaluation purposes. As opposed to only used 2 principal components\n",
    ", the aim would be to find the optimal amount of principal components so as to reduce the dimensions while having a high amount of variance in the data > 95%\n"
   ]
  },
  {
   "cell_type": "code",
   "execution_count": 48,
   "metadata": {},
   "outputs": [
    {
     "data": {
      "text/plain": [
       "444"
      ]
     },
     "execution_count": 48,
     "metadata": {},
     "output_type": "execute_result"
    }
   ],
   "source": [
    "pca = PCA()\n",
    "pca.fit(X_train_B_std_HoG)\n",
    "cumsum = np.cumsum(pca.explained_variance_ratio_)\n",
    "d = np.argmax(cumsum >= 0.99) + 1\n",
    "d"
   ]
  },
  {
   "cell_type": "code",
   "execution_count": 51,
   "metadata": {},
   "outputs": [
    {
     "data": {
      "image/png": "[encoded data removed]",
      "text/plain": [
       "<Figure size 432x288 with 1 Axes>"
      ]
     },
     "metadata": {
      "needs_background": "light"
     },
     "output_type": "display_data"
    }
   ],
   "source": [
    "plt.figure(figsize=(6,4))\n",
    "plt.plot(cumsum, linewidth=3)\n",
    "plt.axis([0, 964, 0, 1])\n",
    "plt.xlabel(\"Dimensions\")\n",
    "plt.ylabel(\"Explained Variance\")\n",
    "plt.plot([d, d], [0, 0.99], \"k:\")\n",
    "plt.plot([0, d], [0.99, 0.99], \"k:\")\n",
    "plt.plot(d, 0.99, \"ko\")\n",
    "plt.grid(True)\n",
    "plt.show()"
   ]
  },
  {
   "cell_type": "markdown",
   "metadata": {},
   "source": [
    "#### 2.3.4 Resampling\n",
    "\n",
    "To address the issue of having an unbalanced dataset, this study investigated resampling techniques such as oversampling and undersampling\n",
    "\n",
    "- Oversampling: Oversampling can be defined as adding more copies of the minority class. Oversampling can be a good choice when you don’t have a ton of data to work with.\n",
    "- "
   ]
  },
  {
   "cell_type": "markdown",
   "metadata": {},
   "source": [
    "## 3 Training The Model \n",
    "\n",
    "### 3.1 Models used \n",
    "\n",
    "- Logistic regression\n",
    "- SVM\n",
    "- MLP\n",
    "- Random Forrest \n",
    "\n",
    "### 3.2 Out of the box classifier\n",
    "\n",
    "The first models that I will use are logistic regression and SVM"
   ]
  },
  {
   "cell_type": "code",
   "execution_count": 17,
   "metadata": {},
   "outputs": [
    {
     "name": "stderr",
     "output_type": "stream",
     "text": [
      "/cs/home/ybk1/Documents/Modules/CS5014/Classification/env/lib64/python3.7/site-packages/sklearn/linear_model/_logistic.py:940: ConvergenceWarning: lbfgs failed to converge (status=1):\n",
      "STOP: TOTAL NO. of ITERATIONS REACHED LIMIT.\n",
      "\n",
      "Increase the number of iterations (max_iter) or scale the data as shown in:\n",
      "    https://scikit-learn.org/stable/modules/preprocessing.html\n",
      "Please also refer to the documentation for alternative solver options:\n",
      "    https://scikit-learn.org/stable/modules/linear_model.html#logistic-regression\n",
      "  extra_warning_msg=_LOGISTIC_SOLVER_CONVERGENCE_MSG)\n",
      "/cs/home/ybk1/Documents/Modules/CS5014/Classification/env/lib64/python3.7/site-packages/sklearn/linear_model/_logistic.py:940: ConvergenceWarning: lbfgs failed to converge (status=1):\n",
      "STOP: TOTAL NO. of ITERATIONS REACHED LIMIT.\n",
      "\n",
      "Increase the number of iterations (max_iter) or scale the data as shown in:\n",
      "    https://scikit-learn.org/stable/modules/preprocessing.html\n",
      "Please also refer to the documentation for alternative solver options:\n",
      "    https://scikit-learn.org/stable/modules/linear_model.html#logistic-regression\n",
      "  extra_warning_msg=_LOGISTIC_SOLVER_CONVERGENCE_MSG)\n",
      "/cs/home/ybk1/Documents/Modules/CS5014/Classification/env/lib64/python3.7/site-packages/sklearn/linear_model/_logistic.py:940: ConvergenceWarning: lbfgs failed to converge (status=1):\n",
      "STOP: TOTAL NO. of ITERATIONS REACHED LIMIT.\n",
      "\n",
      "Increase the number of iterations (max_iter) or scale the data as shown in:\n",
      "    https://scikit-learn.org/stable/modules/preprocessing.html\n",
      "Please also refer to the documentation for alternative solver options:\n",
      "    https://scikit-learn.org/stable/modules/linear_model.html#logistic-regression\n",
      "  extra_warning_msg=_LOGISTIC_SOLVER_CONVERGENCE_MSG)\n",
      "/cs/home/ybk1/Documents/Modules/CS5014/Classification/env/lib64/python3.7/site-packages/sklearn/linear_model/_logistic.py:940: ConvergenceWarning: lbfgs failed to converge (status=1):\n",
      "STOP: TOTAL NO. of ITERATIONS REACHED LIMIT.\n",
      "\n",
      "Increase the number of iterations (max_iter) or scale the data as shown in:\n",
      "    https://scikit-learn.org/stable/modules/preprocessing.html\n",
      "Please also refer to the documentation for alternative solver options:\n",
      "    https://scikit-learn.org/stable/modules/linear_model.html#logistic-regression\n",
      "  extra_warning_msg=_LOGISTIC_SOLVER_CONVERGENCE_MSG)\n",
      "/cs/home/ybk1/Documents/Modules/CS5014/Classification/env/lib64/python3.7/site-packages/sklearn/linear_model/_logistic.py:940: ConvergenceWarning: lbfgs failed to converge (status=1):\n",
      "STOP: TOTAL NO. of ITERATIONS REACHED LIMIT.\n",
      "\n",
      "Increase the number of iterations (max_iter) or scale the data as shown in:\n",
      "    https://scikit-learn.org/stable/modules/preprocessing.html\n",
      "Please also refer to the documentation for alternative solver options:\n",
      "    https://scikit-learn.org/stable/modules/linear_model.html#logistic-regression\n",
      "  extra_warning_msg=_LOGISTIC_SOLVER_CONVERGENCE_MSG)\n",
      "/cs/home/ybk1/Documents/Modules/CS5014/Classification/env/lib64/python3.7/site-packages/sklearn/linear_model/_logistic.py:940: ConvergenceWarning: lbfgs failed to converge (status=1):\n",
      "STOP: TOTAL NO. of ITERATIONS REACHED LIMIT.\n",
      "\n",
      "Increase the number of iterations (max_iter) or scale the data as shown in:\n",
      "    https://scikit-learn.org/stable/modules/preprocessing.html\n",
      "Please also refer to the documentation for alternative solver options:\n",
      "    https://scikit-learn.org/stable/modules/linear_model.html#logistic-regression\n",
      "  extra_warning_msg=_LOGISTIC_SOLVER_CONVERGENCE_MSG)\n",
      "/cs/home/ybk1/Documents/Modules/CS5014/Classification/env/lib64/python3.7/site-packages/sklearn/linear_model/_logistic.py:940: ConvergenceWarning: lbfgs failed to converge (status=1):\n",
      "STOP: TOTAL NO. of ITERATIONS REACHED LIMIT.\n",
      "\n",
      "Increase the number of iterations (max_iter) or scale the data as shown in:\n",
      "    https://scikit-learn.org/stable/modules/preprocessing.html\n",
      "Please also refer to the documentation for alternative solver options:\n",
      "    https://scikit-learn.org/stable/modules/linear_model.html#logistic-regression\n",
      "  extra_warning_msg=_LOGISTIC_SOLVER_CONVERGENCE_MSG)\n"
     ]
    },
    {
     "name": "stdout",
     "output_type": "stream",
     "text": [
      "Logistic Regression Performance Results: \n",
      "{'Accuracy': 0.889165578021661, 'Precision': 0.6608378870673952, 'Recall': 0.23322190794548728, 'F1 Score': 0.34476860210966453}\n",
      "[[53501   931]\n",
      " [ 5964  1814]]\n"
     ]
    },
    {
     "name": "stderr",
     "output_type": "stream",
     "text": [
      "/cs/home/ybk1/Documents/Modules/CS5014/Classification/env/lib64/python3.7/site-packages/sklearn/linear_model/_logistic.py:940: ConvergenceWarning: lbfgs failed to converge (status=1):\n",
      "STOP: TOTAL NO. of ITERATIONS REACHED LIMIT.\n",
      "\n",
      "Increase the number of iterations (max_iter) or scale the data as shown in:\n",
      "    https://scikit-learn.org/stable/modules/preprocessing.html\n",
      "Please also refer to the documentation for alternative solver options:\n",
      "    https://scikit-learn.org/stable/modules/linear_model.html#logistic-regression\n",
      "  extra_warning_msg=_LOGISTIC_SOLVER_CONVERGENCE_MSG)\n",
      "/cs/home/ybk1/Documents/Modules/CS5014/Classification/env/lib64/python3.7/site-packages/sklearn/linear_model/_logistic.py:940: ConvergenceWarning: lbfgs failed to converge (status=1):\n",
      "STOP: TOTAL NO. of ITERATIONS REACHED LIMIT.\n",
      "\n",
      "Increase the number of iterations (max_iter) or scale the data as shown in:\n",
      "    https://scikit-learn.org/stable/modules/preprocessing.html\n",
      "Please also refer to the documentation for alternative solver options:\n",
      "    https://scikit-learn.org/stable/modules/linear_model.html#logistic-regression\n",
      "  extra_warning_msg=_LOGISTIC_SOLVER_CONVERGENCE_MSG)\n",
      "/cs/home/ybk1/Documents/Modules/CS5014/Classification/env/lib64/python3.7/site-packages/sklearn/linear_model/_logistic.py:940: ConvergenceWarning: lbfgs failed to converge (status=1):\n",
      "STOP: TOTAL NO. of ITERATIONS REACHED LIMIT.\n",
      "\n",
      "Increase the number of iterations (max_iter) or scale the data as shown in:\n",
      "    https://scikit-learn.org/stable/modules/preprocessing.html\n",
      "Please also refer to the documentation for alternative solver options:\n",
      "    https://scikit-learn.org/stable/modules/linear_model.html#logistic-regression\n",
      "  extra_warning_msg=_LOGISTIC_SOLVER_CONVERGENCE_MSG)\n",
      "/cs/home/ybk1/Documents/Modules/CS5014/Classification/env/lib64/python3.7/site-packages/sklearn/linear_model/_logistic.py:940: ConvergenceWarning: lbfgs failed to converge (status=1):\n",
      "STOP: TOTAL NO. of ITERATIONS REACHED LIMIT.\n",
      "\n",
      "Increase the number of iterations (max_iter) or scale the data as shown in:\n",
      "    https://scikit-learn.org/stable/modules/preprocessing.html\n",
      "Please also refer to the documentation for alternative solver options:\n",
      "    https://scikit-learn.org/stable/modules/linear_model.html#logistic-regression\n",
      "  extra_warning_msg=_LOGISTIC_SOLVER_CONVERGENCE_MSG)\n",
      "/cs/home/ybk1/Documents/Modules/CS5014/Classification/env/lib64/python3.7/site-packages/sklearn/linear_model/_logistic.py:940: ConvergenceWarning: lbfgs failed to converge (status=1):\n",
      "STOP: TOTAL NO. of ITERATIONS REACHED LIMIT.\n",
      "\n",
      "Increase the number of iterations (max_iter) or scale the data as shown in:\n",
      "    https://scikit-learn.org/stable/modules/preprocessing.html\n",
      "Please also refer to the documentation for alternative solver options:\n",
      "    https://scikit-learn.org/stable/modules/linear_model.html#logistic-regression\n",
      "  extra_warning_msg=_LOGISTIC_SOLVER_CONVERGENCE_MSG)\n",
      "/cs/home/ybk1/Documents/Modules/CS5014/Classification/env/lib64/python3.7/site-packages/sklearn/linear_model/_logistic.py:940: ConvergenceWarning: lbfgs failed to converge (status=1):\n",
      "STOP: TOTAL NO. of ITERATIONS REACHED LIMIT.\n",
      "\n",
      "Increase the number of iterations (max_iter) or scale the data as shown in:\n",
      "    https://scikit-learn.org/stable/modules/preprocessing.html\n",
      "Please also refer to the documentation for alternative solver options:\n",
      "    https://scikit-learn.org/stable/modules/linear_model.html#logistic-regression\n",
      "  extra_warning_msg=_LOGISTIC_SOLVER_CONVERGENCE_MSG)\n",
      "/cs/home/ybk1/Documents/Modules/CS5014/Classification/env/lib64/python3.7/site-packages/sklearn/linear_model/_logistic.py:940: ConvergenceWarning: lbfgs failed to converge (status=1):\n",
      "STOP: TOTAL NO. of ITERATIONS REACHED LIMIT.\n",
      "\n",
      "Increase the number of iterations (max_iter) or scale the data as shown in:\n",
      "    https://scikit-learn.org/stable/modules/preprocessing.html\n",
      "Please also refer to the documentation for alternative solver options:\n",
      "    https://scikit-learn.org/stable/modules/linear_model.html#logistic-regression\n",
      "  extra_warning_msg=_LOGISTIC_SOLVER_CONVERGENCE_MSG)\n"
     ]
    },
    {
     "name": "stdout",
     "output_type": "stream",
     "text": [
      "Logistic Regression Performance Results: \n",
      "{'Accuracy': 0.9632371397068439, 'Precision': 0.9196087421672016, 'Recall': 0.7735921830804834, 'F1 Score': 0.8403044480134069}\n",
      "[[53906   526]\n",
      " [ 1761  6017]]\n"
     ]
    },
    {
     "name": "stderr",
     "output_type": "stream",
     "text": [
      "/cs/home/ybk1/Documents/Modules/CS5014/Classification/env/lib64/python3.7/site-packages/sklearn/metrics/_classification.py:1272: UndefinedMetricWarning: Precision is ill-defined and being set to 0.0 due to no predicted samples. Use `zero_division` parameter to control this behavior.\n",
      "  _warn_prf(average, modifier, msg_start, len(result))\n"
     ]
    },
    {
     "name": "stdout",
     "output_type": "stream",
     "text": [
      "Logistic Regression Performance Results: \n",
      "{'Accuracy': 0.8749718699265404, 'Precision': 0.0, 'Recall': 0.0, 'F1 Score': 0.0}\n",
      "[[54432     0]\n",
      " [ 7778     0]]\n"
     ]
    },
    {
     "name": "stderr",
     "output_type": "stream",
     "text": [
      "/cs/home/ybk1/Documents/Modules/CS5014/Classification/env/lib64/python3.7/site-packages/sklearn/linear_model/_logistic.py:940: ConvergenceWarning: lbfgs failed to converge (status=1):\n",
      "STOP: TOTAL NO. of ITERATIONS REACHED LIMIT.\n",
      "\n",
      "Increase the number of iterations (max_iter) or scale the data as shown in:\n",
      "    https://scikit-learn.org/stable/modules/preprocessing.html\n",
      "Please also refer to the documentation for alternative solver options:\n",
      "    https://scikit-learn.org/stable/modules/linear_model.html#logistic-regression\n",
      "  extra_warning_msg=_LOGISTIC_SOLVER_CONVERGENCE_MSG)\n",
      "/cs/home/ybk1/Documents/Modules/CS5014/Classification/env/lib64/python3.7/site-packages/sklearn/linear_model/_logistic.py:940: ConvergenceWarning: lbfgs failed to converge (status=1):\n",
      "STOP: TOTAL NO. of ITERATIONS REACHED LIMIT.\n",
      "\n",
      "Increase the number of iterations (max_iter) or scale the data as shown in:\n",
      "    https://scikit-learn.org/stable/modules/preprocessing.html\n",
      "Please also refer to the documentation for alternative solver options:\n",
      "    https://scikit-learn.org/stable/modules/linear_model.html#logistic-regression\n",
      "  extra_warning_msg=_LOGISTIC_SOLVER_CONVERGENCE_MSG)\n",
      "/cs/home/ybk1/Documents/Modules/CS5014/Classification/env/lib64/python3.7/site-packages/sklearn/linear_model/_logistic.py:940: ConvergenceWarning: lbfgs failed to converge (status=1):\n",
      "STOP: TOTAL NO. of ITERATIONS REACHED LIMIT.\n",
      "\n",
      "Increase the number of iterations (max_iter) or scale the data as shown in:\n",
      "    https://scikit-learn.org/stable/modules/preprocessing.html\n",
      "Please also refer to the documentation for alternative solver options:\n",
      "    https://scikit-learn.org/stable/modules/linear_model.html#logistic-regression\n",
      "  extra_warning_msg=_LOGISTIC_SOLVER_CONVERGENCE_MSG)\n",
      "/cs/home/ybk1/Documents/Modules/CS5014/Classification/env/lib64/python3.7/site-packages/sklearn/linear_model/_logistic.py:940: ConvergenceWarning: lbfgs failed to converge (status=1):\n",
      "STOP: TOTAL NO. of ITERATIONS REACHED LIMIT.\n",
      "\n",
      "Increase the number of iterations (max_iter) or scale the data as shown in:\n",
      "    https://scikit-learn.org/stable/modules/preprocessing.html\n",
      "Please also refer to the documentation for alternative solver options:\n",
      "    https://scikit-learn.org/stable/modules/linear_model.html#logistic-regression\n",
      "  extra_warning_msg=_LOGISTIC_SOLVER_CONVERGENCE_MSG)\n",
      "/cs/home/ybk1/Documents/Modules/CS5014/Classification/env/lib64/python3.7/site-packages/sklearn/linear_model/_logistic.py:940: ConvergenceWarning: lbfgs failed to converge (status=1):\n",
      "STOP: TOTAL NO. of ITERATIONS REACHED LIMIT.\n",
      "\n",
      "Increase the number of iterations (max_iter) or scale the data as shown in:\n",
      "    https://scikit-learn.org/stable/modules/preprocessing.html\n",
      "Please also refer to the documentation for alternative solver options:\n",
      "    https://scikit-learn.org/stable/modules/linear_model.html#logistic-regression\n",
      "  extra_warning_msg=_LOGISTIC_SOLVER_CONVERGENCE_MSG)\n",
      "/cs/home/ybk1/Documents/Modules/CS5014/Classification/env/lib64/python3.7/site-packages/sklearn/linear_model/_logistic.py:940: ConvergenceWarning: lbfgs failed to converge (status=1):\n",
      "STOP: TOTAL NO. of ITERATIONS REACHED LIMIT.\n",
      "\n",
      "Increase the number of iterations (max_iter) or scale the data as shown in:\n",
      "    https://scikit-learn.org/stable/modules/preprocessing.html\n",
      "Please also refer to the documentation for alternative solver options:\n",
      "    https://scikit-learn.org/stable/modules/linear_model.html#logistic-regression\n",
      "  extra_warning_msg=_LOGISTIC_SOLVER_CONVERGENCE_MSG)\n",
      "/cs/home/ybk1/Documents/Modules/CS5014/Classification/env/lib64/python3.7/site-packages/sklearn/linear_model/_logistic.py:940: ConvergenceWarning: lbfgs failed to converge (status=1):\n",
      "STOP: TOTAL NO. of ITERATIONS REACHED LIMIT.\n",
      "\n",
      "Increase the number of iterations (max_iter) or scale the data as shown in:\n",
      "    https://scikit-learn.org/stable/modules/preprocessing.html\n",
      "Please also refer to the documentation for alternative solver options:\n",
      "    https://scikit-learn.org/stable/modules/linear_model.html#logistic-regression\n",
      "  extra_warning_msg=_LOGISTIC_SOLVER_CONVERGENCE_MSG)\n"
     ]
    },
    {
     "name": "stdout",
     "output_type": "stream",
     "text": [
      "Logistic Regression Performance Results: \n",
      "{'Accuracy': 0.8889083926545482, 'Precision': 0.6602587800369686, 'Recall': 0.22962201079969144, 'F1 Score': 0.34074215396356006}\n",
      "[[53513   919]\n",
      " [ 5992  1786]]\n",
      "Prediction done! Time elapsed: 93.72429370880127 seconds\n",
      "Random Forest Performance Results: \n",
      "{'Accuracy': 0.9573376784994556, 'Precision': 0.966326902074991, 'Recall': 0.6825662123939316, 'F1 Score': 0.8000301386377335}\n",
      "[[54247   185]\n",
      " [ 2469  5309]]\n",
      "Random Forest Performance Results: \n",
      "{'Accuracy': 0.9576752781404423, 'Precision': 0.9629296382940435, 'Recall': 0.6879660581126253, 'F1 Score': 0.8025496812898387}\n",
      "[[54226   206]\n",
      " [ 2427  5351]]\n"
     ]
    },
    {
     "name": "stderr",
     "output_type": "stream",
     "text": [
      "/cs/home/ybk1/Documents/Modules/CS5014/Classification/env/lib64/python3.7/site-packages/sklearn/metrics/_classification.py:1272: UndefinedMetricWarning: Precision is ill-defined and being set to 0.0 due to no predicted samples. Use `zero_division` parameter to control this behavior.\n",
      "  _warn_prf(average, modifier, msg_start, len(result))\n"
     ]
    },
    {
     "name": "stdout",
     "output_type": "stream",
     "text": [
      "Random Forest Performance Results: \n",
      "{'Accuracy': 0.8749718699265404, 'Precision': 0.0, 'Recall': 0.0, 'F1 Score': 0.0}\n",
      "[[54432     0]\n",
      " [ 7778     0]]\n",
      "Random Forest Performance Results: \n",
      "{'Accuracy': 0.928033598501446, 'Precision': 0.8774296821404071, 'Recall': 0.4933144767292363, 'F1 Score': 0.6315529586042301}\n",
      "[[53896   536]\n",
      " [ 3941  3837]]\n",
      "Prediction done! Time elapsed: 1840.5552034378052 seconds\n"
     ]
    }
   ],
   "source": [
    "#fit the logistic regression\n",
    "\n",
    "\n",
    "def run_rf(X, Y):\n",
    "    \"\"\"\n",
    "    Runs the Random Forest classifier using 3 fold cross validation. Trains the model \n",
    "    and scores it on the given dataset, providing results for accuracy, precision, recall, f1 score\n",
    "    and a confusion matrix\n",
    "    :return: log\n",
    "    \"\"\"\"\"\n",
    "    Y = Y.values.ravel()\n",
    "    results = {}\n",
    "    rf = RandomForestClassifier(max_depth=10, n_estimators=10, random_state=0, n_jobs=-1).fit(X, Y)\n",
    "    scores = cross_val_score(rf, X, Y, cv=3, scoring=\"accuracy\")\n",
    "    avg_accuracy = sum(scores)/len(scores)\n",
    "    Y_pred = cross_val_predict(rf, X, Y, cv=3)\n",
    "    cm = confusion_matrix(Y, Y_pred)   \n",
    "    results[\"Accuracy\"] = sum(scores)/len(scores)\n",
    "    results[\"Precision\"] = precision_score(Y, Y_pred, pos_label='seal')\n",
    "    results[\"Recall\"] = recall_score(Y, Y_pred, pos_label='seal')\n",
    "    results[\"F1 Score\"] = f1_score(Y, Y_pred, pos_label='seal')\n",
    "    print(\"Random Forest Performance Results: \\n\" + str(results))\n",
    "    print(cm) \n",
    "    return rf, results\n",
    "\n",
    "\n",
    "def run_log(X, Y):\n",
    "    \"\"\"\n",
    "    Runs the Logistic regression classifier using 3 fold cross validation. Trains the model \n",
    "    and scores it on the given dataset, providing results for accuracy, precision, recall, f1 score\n",
    "    and a confusion matrix\n",
    "    :return: log\n",
    "    \"\"\"\"\"\n",
    "    Y = Y.values.ravel()\n",
    "    results = {}\n",
    "    log = LogisticRegression(random_state=0).fit(X, Y)\n",
    "    scores = cross_val_score(log, X, Y, cv=3, scoring=\"accuracy\")\n",
    "    avg_accuracy = sum(scores)/len(scores)\n",
    "    Y_pred = cross_val_predict(log, X, Y, cv=3)\n",
    "    cm = confusion_matrix(Y, Y_pred)   \n",
    "    results[\"Accuracy\"] = sum(scores)/len(scores)\n",
    "    results[\"Precision\"] = precision_score(Y, Y_pred, pos_label='seal')\n",
    "    results[\"Recall\"] = recall_score(Y, Y_pred, pos_label='seal')\n",
    "    results[\"F1 Score\"] = f1_score(Y, Y_pred, pos_label='seal')\n",
    "    print(\"Logistic Regression Performance Results: \\n\" + str(results))\n",
    "    print(cm) \n",
    "    return log, results\n",
    "\n",
    "\n",
    "\n",
    "# Y = X_train_multi.values.ravel()\n",
    "# run_svc(X_train_B,Y)\n",
    "# log = LogisticRegression(random_state=0).fit(X_train_B,Y)\n",
    "# print(\"Logistic Regression Test Score: {0}\".format(log.score(X_train_B,Y)))\n",
    "\n",
    "time_start = time.time()\n",
    "for i in range (len(X_train_B_list)):\n",
    "    run_log(X_train_B_list[i], Y_train_B)\n",
    "print('Prediction done! Time elapsed: {} seconds'.format(time.time()-time_start))\n",
    "\n",
    "time_start = time.time()\n",
    "for i in range (len(X_train_B_list)):\n",
    "    run_rf(X_train_B_list[i], Y_train_B)\n",
    "print('Prediction done! Time elapsed: {} seconds'.format(time.time()-time_start))"
   ]
  }
 ],
 "metadata": {
  "kernelspec": {
   "display_name": "Python 3",
   "language": "python",
   "name": "python3"
  },
  "language_info": {
   "codemirror_mode": {
    "name": "ipython",
    "version": 3
   },
   "file_extension": ".py",
   "mimetype": "text/x-python",
   "name": "python",
   "nbconvert_exporter": "python",
   "pygments_lexer": "ipython3",
   "version": "3.7.6"
  }
 },
 "nbformat": 4,
 "nbformat_minor": 4
}
